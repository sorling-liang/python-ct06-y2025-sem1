{
  "nbformat": 4,
  "nbformat_minor": 0,
  "metadata": {
    "colab": {
      "provenance": []
    },
    "kernelspec": {
      "name": "python3",
      "display_name": "Python 3"
    },
    "language_info": {
      "name": "python"
    }
  },
  "cells": [
    {
      "cell_type": "markdown",
      "source": [
        "# Lesson 15 - Functions\n"
      ],
      "metadata": {
        "id": "HhIaozBD562h"
      }
    },
    {
      "cell_type": "markdown",
      "source": [
        "\n",
        "## Recap 1: Turtle drawing\n",
        "**Recap 1a**:\n",
        "Using the 'turtle' library, create a 200x200 window\n",
        "\n",
        "1. Import 'turtle' library\n",
        "2. Using '.setup()', create a window 200 in width and 200 in height\n",
        "3. Add a '.mainloop()' function to keep the window open\n",
        "\n",
        "**Recap 1b**:\n",
        "Modify your previous code to create a blue arrow as your turtle.\n",
        "\n",
        "1. Create a turtle called \"artist\" using 'turtle.Turtle()'\n",
        "2. Using '.shape()', change the turtle shape to \"arrow\"\n",
        "3. Using '.color()', change the turtle color to \"blue\"\n",
        "\n",
        "**Recap 1c**:\n",
        "Modify your previous code to draw the shape of a compass rose (shown\n",
        "on screen)\n",
        "\n",
        "1. Use '.penup()' and position turtle to (0, 0) using '.goto()'\n",
        "2. Point turtle towards North (\"90\") using '.seth()'\n",
        "3. Use '.pendown()' and draw \"60\" towards North\n",
        "4. Using '.right()', turn turtle 90 degrees to the right\n",
        "5. Using a 'for' loop, draw a circle by moving 1 step each time\n",
        "   before turning 1 degree to the right for 360 times.\n",
        "\n",
        "**Recap 1d**:\n",
        "Modify your previous code to print the position of your turtle at the\n",
        "end of the drawing.\n",
        "\n",
        "1. Using '.xcor()' and 'ycor()', print onto the console your turtle's\n",
        "   last coordinates in the following format:\n",
        "\n",
        "   \"Current turtle position: <x>, <y>\"\n",
        "\n"
      ],
      "metadata": {
        "id": "xB4yFMWR59Yb"
      }
    },
    {
      "cell_type": "code",
      "execution_count": null,
      "metadata": {
        "id": "O-gYjpO65t01"
      },
      "outputs": [],
      "source": [
        "# 15.Recap1a (window setup)\n",
        "import turtle\n",
        "\n",
        "window = turtle.Screen()\n",
        "window.setup(width=200, height=200)\n",
        "\n",
        "# 15.Recap1b (turtle setup)\n",
        "artist = turtle.Turtle()\n",
        "artist.shape(\"arrow\")\n",
        "artist.color(\"blue\")  # Change as needed for each shape\n",
        "\n",
        "# 15.Recap1c (drawing)\n",
        "artist.penup()\n",
        "artist.goto(0, 0)\n",
        "\n",
        "artist.seth(90)\n",
        "artist.pendown()\n",
        "artist.forward(60)\n",
        "artist.right(90)\n",
        "for _ in range(360):\n",
        "    artist.forward(1)\n",
        "    artist.right(1)\n",
        "\n",
        "# 15.Recap1d (print the turtle's position)\n",
        "print(\"Current turtle position: \" + str(artist.xcor()) + \", \" + str(artist.ycor()))\n",
        "\n",
        "window.mainloop()\n",
        "\n"
      ]
    },
    {
      "cell_type": "markdown",
      "source": [
        "\n",
        "## Task 1: Self-introduction\n",
        "You are at a party, and you expect to see your friend Ethan and 3 of\n",
        "his friends you have never met before. They are Ben, Gracie, and\n",
        "Javior.\n",
        "\n",
        "Write a program (with or without functions) that will ask the user\n",
        "for their name and print 1 of 3 ways to greet the person:\n",
        "1. If the person is Ethan, greet him by saying:\n",
        "        \"Hi Ethan. How are you?\"\n",
        "2. If the person is either Ben, Gracie, or Javior, greet them by\n",
        "   saying:\n",
        "        \"Hi there!\"\n",
        "        \"My name is Freddo\"\n",
        "        \"I like to swim and eat chicken wings!\"\n",
        "        \"Nice to meet you!\"\n",
        "3. If the person is none of the above, say:\n",
        "        \"I don't think you belong here...\"\n",
        "\n"
      ],
      "metadata": {
        "id": "_CdoyEtA6MpX"
      }
    },
    {
      "cell_type": "code",
      "source": [
        "\n",
        "# 15.1\n",
        "# Get the name of the stranger/friend\n",
        "name = input(\"What is your name? \")\n",
        "\n",
        "# Switch case to display appropriate greeting.\n",
        "if name == \"Ethan\":\n",
        "    print(\"Hi \" + name + \". How are you?\")\n",
        "\n",
        "elif name == \"Ben\":\n",
        "    print(\"Hi there!\")\n",
        "    print(\"My name is Freddo\")\n",
        "    print(\"I like to swim and eat chicken wings!\")\n",
        "    print(\"Nice to meet you!\")\n",
        "\n",
        "elif name == \"Gracie\":\n",
        "    print(\"Hi there!\")\n",
        "    print(\"My name is Freddo\")\n",
        "    print(\"I like to swim and eat chicken wings!\")\n",
        "    print(\"Nice to meet you!\")\n",
        "\n",
        "elif name == \"Javior\":\n",
        "    print(\"Hi there!\")\n",
        "    print(\"My name is Freddo\")\n",
        "    print(\"I like to swim and eat chicken wings!\")\n",
        "    print(\"Nice to meet you!\")\n",
        "\n",
        "else:\n",
        "    print(\"I don't think you belong here...\")\n"
      ],
      "metadata": {
        "id": "7sYMxWXa6So3"
      },
      "execution_count": null,
      "outputs": []
    },
    {
      "cell_type": "markdown",
      "source": [
        "\n",
        "\n",
        "## Task 2: Square\n",
        "Using the 'turtle' library, create a function that draws a square.\n",
        "Use the function you have created to draw the pattern shown on the\n",
        "screen.\n",
        "\n",
        "1. Import the 'turtle' library\n",
        "2. Set up the screen using 'turtle.Screen()'\n",
        "3. Create a function, \"draw_square\" that will draw a 20x20 square\n",
        "4. Using 'for' loops and the \"draw_square\" function you have created,\n",
        "   draw the pattern shown on the screen.\n",
        "5. You will have to reposition your turtle before calling the\n",
        "   \"draw_square\" function each time.\n",
        "\n"
      ],
      "metadata": {
        "id": "d-tLrfBn6RnC"
      }
    },
    {
      "cell_type": "code",
      "source": [
        "\n",
        "# 15.2\n",
        "import turtle\n",
        "\n",
        "# Initialize the turtle\n",
        "t = turtle.Turtle()\n",
        "\n",
        "# Set up the screen\n",
        "screen = turtle.Screen()\n",
        "\n",
        "num_box = 6\n",
        "\n",
        "def draw_square():\n",
        "    for count in range(4):\n",
        "        t.forward(20)\n",
        "        t.left(90)\n",
        "\n",
        "for i in range(3):\n",
        "    for count in range(num_box):\n",
        "        t.pendown()\n",
        "        draw_square()\n",
        "        t.penup()\n",
        "        t.forward(25)  # Move to the position for the next square\n",
        "\n",
        "    for count in range(num_box):\n",
        "        t.backward(25)\n",
        "\n",
        "    t.sety(t.ycor() - 25)\n",
        "    t.setx(t.xcor() + 25)\n",
        "\n",
        "    num_box -= 2\n",
        "\n",
        "# Hide the turtle and finish\n",
        "screen.mainloop()\n"
      ],
      "metadata": {
        "id": "crEn7-w46POM"
      },
      "execution_count": null,
      "outputs": []
    },
    {
      "cell_type": "markdown",
      "source": [
        "\n",
        "## Task 3: Increment Counter\n",
        "Create a function that will increase the 'counter' variable by 1 each\n",
        "time it is called.\n",
        "\n",
        "1. Create a 'counter' variable and assign it '0'\n",
        "2. Define a function 'increment_counter()':\n",
        "        a. Declare 'counter' as 'global'\n",
        "        b. Add 1 to 'counter'\n",
        "3. Test your program out by calling the 'increment_counter()' function\n",
        "4. 3 times before printing out the value of the 'counter' variable.\n",
        "\n",
        "Your output should be \"3\"\n"
      ],
      "metadata": {
        "id": "S9Pz5zMJ6jtr"
      }
    },
    {
      "cell_type": "code",
      "source": [
        "\n",
        "# 15.3\n",
        "# Global variable\n",
        "counter = 0\n",
        "\n",
        "def increment_counter():\n",
        "    global counter  # Declare counter as global to modify it\n",
        "    counter += 1\n",
        "\n",
        "# Call the function multiple times and print the global variable\n",
        "increment_counter()\n",
        "increment_counter()\n",
        "increment_counter()\n",
        "print(\"Counter value:\", counter)  # Should print \"Counter value: 2\"\n",
        "\n"
      ],
      "metadata": {
        "id": "gTMJJ4on6kkn"
      },
      "execution_count": null,
      "outputs": []
    },
    {
      "cell_type": "markdown",
      "source": [
        "\n",
        "## Task 4: Square to Square\n",
        "Use a function with parameters to draw 7 squares to form the pattern\n",
        "shown on the screen.\n",
        "\n",
        "1. Import the 'turtle' library\n",
        "2. Create a 400x400 screen\n",
        "3. Create a function \"draw_square\" with a \"size\" parameter\n",
        "4. The \"draw_square\" function will draw a square of size*size around\n",
        "   the (0,0) coordinate.\n",
        "5. Within a 'for' loop, use the draw_square function you have created\n",
        "   to draw 7 squares around the (0,0) coordinate with the following\n",
        "   sizes:\n",
        "        50, 100, 150, 200, 250, 300, 350\n",
        "\n"
      ],
      "metadata": {
        "id": "bOjKa84v6mqG"
      }
    },
    {
      "cell_type": "code",
      "source": [
        "\n",
        "# 15.4\n",
        "import turtle\n",
        "\n",
        "screen = turtle.Screen()\n",
        "screen.setup(width=400, height=400)\n",
        "\n",
        "square = turtle.Turtle()\n",
        "\n",
        "def draw_square(size):\n",
        "    square.penup()\n",
        "    square.goto(0, 0)\n",
        "    square.seth(180)\n",
        "    for i in range(2):\n",
        "        square.forward(size/2)\n",
        "        square.right(90)\n",
        "    square.pendown()\n",
        "    for i in range(4):\n",
        "        square.forward(size)\n",
        "        square.right(90)\n",
        "\n",
        "for i in range(50, 351, 50):\n",
        "    draw_square(i)\n",
        "\n",
        "screen.mainloop()\n"
      ],
      "metadata": {
        "id": "3fKV26Yb6oAv"
      },
      "execution_count": null,
      "outputs": []
    },
    {
      "cell_type": "markdown",
      "source": [
        "\n",
        "\n",
        "## Task 5: Double the Number\n",
        "Create a function that takes in a number and doubles it\n",
        "\n",
        "1. Create a function named 'doubleNumber()'\n",
        "2. The function should return the doubled number\n",
        "3. Using the 'doubleNumber()' function, print the doubles of the\n",
        "   following numbers:\n",
        "\n",
        "    4\n",
        "\n",
        "    9\n",
        "\n",
        "    1530\n",
        "\n",
        "    284\n",
        "\n"
      ],
      "metadata": {
        "id": "bWT9sfmd6wTm"
      }
    },
    {
      "cell_type": "code",
      "source": [
        "\n",
        "# 15.5\n",
        "def doubleNumber(num):\n",
        "    return int(num)*2\n",
        "\n",
        "print(doubleNumber(5)) #Testing it out\n"
      ],
      "metadata": {
        "id": "THW1r9ov6xV4"
      },
      "execution_count": null,
      "outputs": []
    },
    {
      "cell_type": "markdown",
      "source": [
        "\n",
        "## Task 6: Greetings III\n",
        "Create a function that takes in a name and returns a greeting\n",
        "\n",
        "1. Create a function named 'greet()'\n",
        "2. The function should return a greeting\n",
        "    Example: \"Hello there <name>!\"\n",
        "3. Ask the user for their name\n",
        "4. Using the 'greet()' function, print the greeting\n",
        "\n"
      ],
      "metadata": {
        "id": "ahJCry5f62qI"
      }
    },
    {
      "cell_type": "code",
      "source": [
        "\n",
        "# 15.6\n",
        "def greet(name):\n",
        "    greeting = \"Hello there \" + name + \"!\"\n",
        "    return greeting\n",
        "\n",
        "user_name = input(\"What is your name? \")\n",
        "print(greet(user_name))\n"
      ],
      "metadata": {
        "id": "zaCnlUBy630e"
      },
      "execution_count": null,
      "outputs": []
    },
    {
      "cell_type": "markdown",
      "source": [
        "\n",
        "\n",
        "## Task 7: Even or Odd? III\n",
        "Create a function that takes in a number and returns whether it is\n",
        "even\n",
        "\n",
        "1. Create a function named isEven()\n",
        "2. If the number is even, the function should return True\n",
        "3. If the number is odd, the function should return False\n",
        "4. Using the 'isEven()' function, loop through a list of numbers and\n",
        "   print them out in this format:\n",
        "    \"3 is an odd number\"\n",
        "    \"9 is an odd number\"\n",
        "    \"2 is an even number\"\n",
        "\n"
      ],
      "metadata": {
        "id": "bN_EJHx166XQ"
      }
    },
    {
      "cell_type": "code",
      "source": [
        "\n",
        "# 15.7\n",
        "def isEven(number):\n",
        "    return number % 2 == 0\n",
        "\n",
        "# List of numbers to test\n",
        "numbers = [3, 9, 2, 8, 5, 4]\n",
        "\n",
        "# Loop through the list and print whether each number is even or odd\n",
        "for num in numbers:\n",
        "    if isEven(num):\n",
        "        print(f\"{num} is an even number\")\n",
        "    else:\n",
        "        print(f\"{num} is an odd number\")\n"
      ],
      "metadata": {
        "id": "0Ayw2OBk67P5"
      },
      "execution_count": null,
      "outputs": []
    },
    {
      "cell_type": "markdown",
      "source": [
        "   \n",
        "## Task 8: Age Group\n",
        "Create a function that will take in someone's age and return either\n",
        "'Child' (Below 13), 'Teen' (14-20), 'Adult' (21-64), or\n",
        "'Senior' (65 and above) based on the age provided.\n",
        "\n",
        "1. Define the function 'ageGroup()' with one parameter: 'age'.\n",
        "2. Use 'if-elif-else' statements to return the appropriate age group\n",
        "   based on the 'age' parameter\n",
        "\n"
      ],
      "metadata": {
        "id": "mvsZ2D4H7Egp"
      }
    },
    {
      "cell_type": "code",
      "source": [
        "\n",
        "# 15.8\n",
        "def ageGroup(age):\n",
        "    if age < 13:\n",
        "        return \"Child\"\n",
        "    elif age < 21:\n",
        "        return \"Teen\"\n",
        "    elif age < 54:\n",
        "        return \"Adult\"\n",
        "    else:\n",
        "        return \"Senior\"\n",
        "\n",
        "# Test the function with different ages\n",
        "print(age_group(10))  # Should return 'Child'\n",
        "print(age_group(15))  # Should return 'Teen'\n",
        "print(age_group(30))  # Should return 'Adult'\n",
        "print(age_group(70))  # Should return 'Senior'\n"
      ],
      "metadata": {
        "id": "uz5nP0Q77FVP"
      },
      "execution_count": null,
      "outputs": []
    },
    {
      "cell_type": "markdown",
      "source": [
        "\n",
        "\n",
        "## Task 9: Calling a function within a function\n",
        "**Task 9a**:\n",
        "Create a function 'square()' that will take in a number and return\n",
        "the squared value of the number. Squared is when the number is\n",
        "multiplied by itself.\n",
        "\n",
        "For example, \"5 squared\" is 5x5, giving us 25.\n",
        "\n",
        "Example:\n",
        "square(3) >>> 9\n",
        "\n",
        "**Task 9b**:\n",
        "Create a function 'sum_of_squares()' that will take in 2 numbers and\n",
        "return the sum of each of the number squared. You must use the\n",
        "'square()' function within the 'sum_of_squares()' function.\n",
        "\n",
        "Example:\n",
        "sum_of_squares(3, 4) >>> 25"
      ],
      "metadata": {
        "id": "f2ILFWFg5x65"
      }
    },
    {
      "cell_type": "code",
      "source": [
        "\n",
        "# 15.9a\n",
        "def square(number):\n",
        "    return number * number\n",
        "\n",
        "# 15.9b\n",
        "def sum_of_squares(x, y):\n",
        "    return square(x) + square(y)  # Calls the square function for each argument\n",
        "\n",
        "# Example of calling the outer function\n",
        "print(sum_of_squares(3, 4))\n"
      ],
      "metadata": {
        "id": "gHxTwFCh50S6"
      },
      "execution_count": null,
      "outputs": []
    }
  ]
}