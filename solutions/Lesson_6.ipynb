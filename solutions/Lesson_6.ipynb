{
  "nbformat": 4,
  "nbformat_minor": 0,
  "metadata": {
    "colab": {
      "provenance": []
    },
    "kernelspec": {
      "name": "python3",
      "display_name": "Python 3"
    },
    "language_info": {
      "name": "python"
    }
  },
  "cells": [
    {
      "cell_type": "markdown",
      "source": [
        "# Lesson 6 - Debugging\n",
        "\n",
        "\n"
      ],
      "metadata": {
        "id": "ZrKQDkPYkUBz"
      }
    },
    {
      "cell_type": "markdown",
      "source": [
        "## Recap 1: Class Average Calculator\n",
        "\n",
        "You have been tasked to create a programme that calculates the\n",
        "average marks of a class.\n",
        "\n",
        "Your program will have to ask the\n",
        "user for the total number of students, followed by the marks of\n",
        "each student one at a time.\n",
        "\n",
        "Use only variables, math operators that you have learnt, as\n",
        "well as a 'for' loop.\n",
        "\n"
      ],
      "metadata": {
        "id": "SWnkaERmkhcV"
      }
    },
    {
      "cell_type": "code",
      "source": [
        "# 6.Recap1\n",
        "num_stud = int(input(\"Number of students: \"))\n",
        "total_marks = 0\n",
        "for i in range(num_stud):\n",
        "    total_marks = total_marks + int(input(\"Student mark: \"))\n",
        "average_marks = total_marks / num_stud\n",
        "print(\"The average marks is: \" + str(average_marks))\n"
      ],
      "metadata": {
        "id": "SkIXbrmvkpdr"
      },
      "execution_count": null,
      "outputs": []
    },
    {
      "cell_type": "markdown",
      "source": [
        "## Task 1: Syntax Errors\n",
        "Fix the errors in the following:\n",
        "\n",
        "**Task 1a**:\n",
        "\n",
        "for i in range(3)\n",
        "\n",
        "print(\"Hello, World!\")\n",
        "\n",
        "**Task 1b**:\n",
        "\n",
        "for i in range(5):\n",
        "\n",
        "print(i)\n",
        "\n",
        "**Task 1c**:\n",
        "\n",
        "print(\"Hello, World!)\n",
        "\n",
        "**Task 1d**:\n",
        "\n",
        "if = 5\n",
        "\n",
        "**Task 1e**:\n",
        "\n",
        "print \"Hello, World!\""
      ],
      "metadata": {
        "id": "LZDvnoZ6kcOx"
      }
    },
    {
      "cell_type": "code",
      "source": [
        "\n",
        "# 6.1a\n",
        "for i in range(3):\n",
        "    print(\"Hello, World!\")\n",
        "\n",
        "# 6.1b\n",
        "for i in range(5):\n",
        "    print(i)\n",
        "\n",
        "# 6.1c\n",
        "print(\"Hello, World!\")\n",
        "\n",
        "# 6.1d\n",
        "If = 5 # \"if\" is a Python reserved word\n",
        "\n",
        "# 6.1e\n",
        "print(\"Hello, World!\")\n"
      ],
      "metadata": {
        "id": "uCK2flb5kx8K"
      },
      "execution_count": null,
      "outputs": []
    },
    {
      "cell_type": "markdown",
      "source": [
        "\n",
        "## Task 2: Name Errors\n",
        "Fix the errors in the following:\n",
        "\n",
        "**Task 2a**:\n",
        "\n",
        "print(age)\n",
        "\n",
        "**Task 2b**:\n",
        "\n",
        "name = \"Alice\"\n",
        "\n",
        "print(nam)\n",
        "\n",
        "**Task 2c**:\n",
        "\n",
        "print(x)\n",
        "\n",
        "x = 5\n",
        "\n",
        "**Task 2d**:\n",
        "\n",
        "pint(\"Hello, World!\")"
      ],
      "metadata": {
        "id": "nktnipbzk1TI"
      }
    },
    {
      "cell_type": "code",
      "source": [
        "\n",
        "# 6.2a\n",
        "age = 5\n",
        "print(age)\n",
        "\n",
        "# 6.2b\n",
        "name = \"Alice\"\n",
        "print(name)\n",
        "\n",
        "# 6.2c\n",
        "x = 5\n",
        "print(x)\n",
        "\n",
        "# 6.2d\n",
        "print(\"Hello, World!\")"
      ],
      "metadata": {
        "id": "dHN1l5Xtk6df"
      },
      "execution_count": null,
      "outputs": []
    },
    {
      "cell_type": "markdown",
      "source": [
        "\n",
        "\n",
        "---------------------------------------------------------------\n",
        "\n",
        "## Task 3: Type Errors\n",
        "Fix the errors in the following:\n",
        "\n",
        "**Task 3a**:\n",
        "\n",
        "age = \"25\"\n",
        "\n",
        "print(age + 1)\n",
        "\n",
        "**Task 3b**:\n",
        "\n",
        "number = 10\n",
        "\n",
        "print(number - \"5\")\n",
        "\n",
        "**Task 3c**:\n",
        "\n",
        "print(\"Repeat\" * \"3\")\n",
        "\n",
        "**Task 3d**:\n",
        "\n",
        "year = 2023\n",
        "\n",
        "print(\"The year is \" + year)\n",
        "\n",
        "**Task 3e**:\n",
        "\n",
        "x = \"10\"\n",
        "\n",
        "y = x / 2\n",
        "\n",
        "**Task 3f**:\n",
        "\n",
        "end = \"5\"\n",
        "\n",
        "for i in range(end):\n",
        "\n",
        "print(i)"
      ],
      "metadata": {
        "id": "on61Ab0IklPw"
      }
    },
    {
      "cell_type": "code",
      "execution_count": null,
      "metadata": {
        "id": "lbRfxgOTkJWh"
      },
      "outputs": [],
      "source": [
        "\n",
        "# 6.3a\n",
        "age = 25\n",
        "print(age + 1)\n",
        "\n",
        "# 6.3b\n",
        "number = 10\n",
        "print(number - 5)\n",
        "\n",
        "# 6.3c\n",
        "print(\"Repeat\" * 3)\n",
        "\n",
        "# 6.3d\n",
        "year = 2023\n",
        "print(\"The year is \" + str(year))\n",
        "\n",
        "# 6.3e\n",
        "x = 10\n",
        "y = x / 2\n",
        "\n",
        "# 6.3f\n",
        "end = 5\n",
        "for i in range(end):\n",
        "    print(i)\n"
      ]
    }
  ]
}