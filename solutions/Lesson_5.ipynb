{
  "nbformat": 4,
  "nbformat_minor": 0,
  "metadata": {
    "colab": {
      "provenance": []
    },
    "kernelspec": {
      "name": "python3",
      "display_name": "Python 3"
    },
    "language_info": {
      "name": "python"
    }
  },
  "cells": [
    {
      "cell_type": "markdown",
      "source": [
        "# Lesson 5 - Introduction to For Loop and range()\n",
        "\n"
      ],
      "metadata": {
        "id": "4QF0ve-6l_Er"
      }
    },
    {
      "cell_type": "markdown",
      "source": [
        "## Recap 1: Automated Birthday Invitation\n",
        "\n",
        "You run a small business that creates personalized digital\n",
        "birthday invitation cards. To automate the process, you decide\n",
        "to write a Python program.\n",
        "\n",
        "This program should ask the user for:\n",
        "1. birthday person's name\n",
        "2. the age that they are turning that year\n",
        "3. personal message from the sender\n",
        "\n",
        "Finally, the program prints out a personalized invitation\n",
        "message.\n",
        "\n",
        "### Sample output:\n",
        "\"Happy < Age >th birthday < Name >! < Message >\"\n",
        "\n",
        "\n"
      ],
      "metadata": {
        "id": "0uyPVLxHmEda"
      }
    },
    {
      "cell_type": "code",
      "source": [
        "# 5.Recap1\n",
        "name = input(\"What is your friend's name? \")\n",
        "age = int(input(\"How old will they be turning this year? \"))\n",
        "message = input(\"What message would you like to write to them? \")\n",
        "\n",
        "print(\"Happy \" + str(age) + \"th birthday \" + name + \"! \" + message)\n"
      ],
      "metadata": {
        "id": "Tzcvzzo1mFCJ"
      },
      "execution_count": null,
      "outputs": []
    },
    {
      "cell_type": "markdown",
      "source": [
        "\n",
        "\n",
        "## Task 1: Name Cheer\n",
        "\n",
        "Your school's Sports Day is coming up and you are coding a\n",
        "program to cheer your schoolmates up.\n",
        "\n",
        "Your program needs to:\n",
        "1. Using input(), ask the user for their namee e.g. < Dave >\n",
        "2. Print a cheer as shown below:\n",
        "   \n",
        "    ### Example:\n",
        "```\n",
        "What is your name? Dave\n",
        "Give me a D!\n",
        "Give me a a!\n",
        "Give me a v!\n",
        "Give me a e!\n",
        "What do we have?\n",
        "Dave is the best!\n",
        "```\n",
        "\n",
        "\n",
        "\n",
        "Note:\n",
        "\n",
        "Notice how \"Give me a...\" is repeated!\n",
        "\n",
        "Which function should you be using?\n"
      ],
      "metadata": {
        "id": "0CO4arDQmNGz"
      }
    },
    {
      "cell_type": "code",
      "source": [
        "# 5.1\n",
        "user_name = input(\"What is your name? \")\n",
        "for i in user_name:\n",
        "    print(\"Give me a \" + i + \"!\")\n",
        "print(\"What do we have?\")\n",
        "print(user_name + \" is the best!\")\n"
      ],
      "metadata": {
        "id": "8xPaYilBmdlH"
      },
      "execution_count": null,
      "outputs": []
    },
    {
      "cell_type": "markdown",
      "source": [
        "## Task 2: Repeated Sentence Loop\n",
        "\n",
        "Print the sentence \"I like chicken rice.\" 100 times using the\n",
        "'for' loop"
      ],
      "metadata": {
        "id": "q8PkL5ppmz0p"
      }
    },
    {
      "cell_type": "code",
      "source": [
        "# 5.2\n",
        "for i in range(100):\n",
        "    print(\"I like chicken rice.\")\n",
        "\n"
      ],
      "metadata": {
        "id": "-J80aRa0m0gq"
      },
      "execution_count": null,
      "outputs": []
    },
    {
      "cell_type": "markdown",
      "source": [
        "\n",
        "## Task 3: Sentence Repetition Loop with Order of Code\n",
        "##         Sequence\n",
        "\n",
        "Using the 'for' loop, print the following sentences sequence\n",
        "100 times:\n",
        "\n",
        "\"I like cake.\"\n",
        "\n",
        "\"Give me more\"\n"
      ],
      "metadata": {
        "id": "URRpv5qjm7zw"
      }
    },
    {
      "cell_type": "code",
      "source": [
        "# 5.3\n",
        "for i in range(100):\n",
        "    print(\"I like cake.\")\n",
        "    print(\"Give me more\")\n",
        "\n"
      ],
      "metadata": {
        "id": "c-ROzqX_m8JP"
      },
      "execution_count": null,
      "outputs": []
    },
    {
      "cell_type": "markdown",
      "source": [
        "## Task 4: range(stop)\n",
        "\n",
        "Using the 'for' loop, print the numbers from 0 - 59\n",
        "\n",
        "Question:\n",
        "\n",
        "How many numbers are printed?"
      ],
      "metadata": {
        "id": "8XzXPHy0nB-m"
      }
    },
    {
      "cell_type": "code",
      "source": [
        "# 5.4\n",
        "for i in range(60):\n",
        "    print(i)\n"
      ],
      "metadata": {
        "id": "uOulqZfonCVL"
      },
      "execution_count": null,
      "outputs": []
    },
    {
      "cell_type": "markdown",
      "source": [
        "\n",
        "\n",
        "## Task 5: range(start, stop)\n",
        "\n",
        "**Task 5a**:\n",
        "\n",
        "Print numbers from 1 to 5 using a 'for' loop.\n",
        "\n",
        "**Task 5b**:\n",
        "\n",
        "Print numbers from 51 to 100 using a 'for' loop.\n",
        "\n",
        "**Task 5c**:\n",
        "\n",
        "Print numbers from 18 to 29 using a 'for' loop.\n"
      ],
      "metadata": {
        "id": "vSqCJoi6nIU_"
      }
    },
    {
      "cell_type": "code",
      "source": [
        "# 5.5a\n",
        "for i in range(1, 6):\n",
        "    print(i)\n",
        "\n",
        "# 5.5b\n",
        "for i in range(51, 101):\n",
        "    print(i)\n",
        "\n",
        "# 5.5c\n",
        "for i in range(18, 30):\n",
        "    print(i)\n"
      ],
      "metadata": {
        "id": "z89wrAIsnIvG"
      },
      "execution_count": null,
      "outputs": []
    },
    {
      "cell_type": "markdown",
      "source": [
        "\n",
        "## Task 6: range(start, stop, step)\n",
        "\n",
        "**Task 6a**:\n",
        "\n",
        "Use a 'for' loop to print numbers from 2 to 24 in multiples of 2.\n",
        "\n",
        "**Task 6b**:\n",
        "\n",
        "Use a 'for' loop to print numbers from 8 to 96 in multiples of 8.\n",
        "\n",
        "**Task 6c**:\n",
        "\n",
        "Use a 'for' loop to print numbers from 5 to 1 in descending order."
      ],
      "metadata": {
        "id": "pDtoiPfknOdP"
      }
    },
    {
      "cell_type": "code",
      "source": [
        "# 5.6a\n",
        "for i in range(2, 25, 2):\n",
        "    print(i)\n",
        "\n",
        "# 5.6b\n",
        "for i in range(8, 97, 8):\n",
        "    print(i)\n",
        "\n",
        "# 5.6c\n",
        "for i in range(5, 0, -1):\n",
        "    print(i)"
      ],
      "metadata": {
        "id": "IX-BNZ4WnOpf"
      },
      "execution_count": null,
      "outputs": []
    },
    {
      "cell_type": "markdown",
      "source": [
        "\n",
        "## Task 7: Countdown timer\n",
        "\n",
        "**Task 7a**:\n",
        "Imagine you are the race official and to start the race, you\n",
        "must say the following:\n",
        "\n",
        "    Ready!\n",
        "    3\n",
        "    2\n",
        "    1\n",
        "\n",
        "Using a 'for' loop, recreate the above sequence.\n",
        "\n",
        "**Task 7b**:\n",
        "\n",
        "Create a countdown timer that counts from 10 to 1.\n",
        "\n",
        "When the timer hits 1, print \"Boo!\""
      ],
      "metadata": {
        "id": "PLkuU_9ZnVVl"
      }
    },
    {
      "cell_type": "code",
      "source": [
        "# 5.7a\n",
        "print(\"Ready!\")\n",
        "for i in range(3, 0, -1):\n",
        "    print(i)\n",
        "\n",
        "# 5.7b\n",
        "for i in range(10, 0, -1):\n",
        "    print(i)\n",
        "print(\"Boo!\")"
      ],
      "metadata": {
        "id": "oD5Ov0zQnWG4"
      },
      "execution_count": null,
      "outputs": []
    },
    {
      "cell_type": "markdown",
      "source": [
        "\n",
        "## Task 8: User-Defined Range Counter\n",
        "\n",
        "Using input(), ask the user for 2 numbers and store them in the\n",
        "variables:\n",
        "1. start\n",
        "2. stop\n",
        "\n",
        "Write a 'for' loop to count from **start** to **stop**\n",
        "\n",
        "Note:\n",
        "What happens if the user inputs a higher start number than stop?\n",
        "Modify your code to be able to handle that scenario."
      ],
      "metadata": {
        "id": "rmeuisWRnaw-"
      }
    },
    {
      "cell_type": "code",
      "source": [
        "# 5.8\n",
        "start = int(input(\"What number would you like to start counting from? \"))\n",
        "stop = int(input(\"What number would you like to count until? \"))\n",
        "\n",
        "if start < stop:\n",
        "    for i in range(start, stop + 1):\n",
        "        print(i)\n",
        "else:\n",
        "    for i in range(start, stop - 1, -1):\n",
        "        print(i)\n"
      ],
      "metadata": {
        "id": "e1JPRuHPnbsp"
      },
      "execution_count": null,
      "outputs": []
    },
    {
      "cell_type": "markdown",
      "source": [
        "\n",
        "## Task 9: Accumulative Sum in Loop\n",
        "\n",
        "1. Create a variable 'num' and assign the integer \"0\" to it\n",
        "2. Create a 'for' loop that repeats 10 times\n",
        "3. Add the sum of 'num' and the loop's parameter and print out\n",
        "   the value.\n",
        "4. Observe what happens.\n",
        "\n",
        "Example:\n",
        "\n",
        "1st iteration\n",
        "\n",
        "    num = num + i\n",
        "    print(num)\n",
        "\n",
        "2nd iteration\n",
        "\n",
        "    num = num + i\n",
        "    print(num)\n",
        "\n",
        "...\n",
        "\n",
        "10th iteration\n",
        "\n",
        "    num = num + i\n",
        "    print(num)\n",
        "\n",
        "\n",
        "Output:\n",
        "\n",
        "    0\n",
        "    1\n",
        "    3\n",
        "    6\n",
        "    10\n",
        "    15\n",
        "    21  \n",
        "    28\n",
        "    36\n",
        "    45"
      ],
      "metadata": {
        "id": "lZ0ecMILmccR"
      }
    },
    {
      "cell_type": "code",
      "execution_count": null,
      "metadata": {
        "id": "NJV3XAJRlzZD"
      },
      "outputs": [],
      "source": [
        "\n",
        "# 5.9\n",
        "num = 0\n",
        "\n",
        "for i in range(10):\n",
        "    num = num + i\n",
        "    print(num)"
      ]
    }
  ]
}