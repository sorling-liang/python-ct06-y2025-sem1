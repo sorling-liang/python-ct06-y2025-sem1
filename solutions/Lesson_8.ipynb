{
  "nbformat": 4,
  "nbformat_minor": 0,
  "metadata": {
    "colab": {
      "provenance": []
    },
    "kernelspec": {
      "name": "python3",
      "display_name": "Python 3"
    },
    "language_info": {
      "name": "python"
    }
  },
  "cells": [
    {
      "cell_type": "markdown",
      "source": [
        "# Lesson 8 - Importing Libraries, Boolean & Conditions\n"
      ],
      "metadata": {
        "id": "_aKvRrruDj4r"
      }
    },
    {
      "cell_type": "markdown",
      "source": [
        "\n",
        "## Recap 1: Product of 5 numbers\n",
        "\n",
        "Write a program to calculate the product (multiplication) of 5\n",
        "numbers.\n",
        "\n",
        "1. Using a for loop, ask the user for 5 numbers one at a time.\n",
        "2. Calculate the multiplication for these 5 numbers and print\n",
        "   it out."
      ],
      "metadata": {
        "id": "DPmZYW9tDs6J"
      }
    },
    {
      "cell_type": "code",
      "source": [
        "# 8.Recap1\n",
        "tally = 1\n",
        "\n",
        "for i in range(1, 6):\n",
        "    tally = tally * int(input(\"Input number #\" + str(i) + \": \"))\n",
        "print(\"Multiplication of all the numbers is: \" + str(tally))\n"
      ],
      "metadata": {
        "id": "cpAtn6uMDvwE"
      },
      "execution_count": null,
      "outputs": []
    },
    {
      "cell_type": "markdown",
      "source": [
        "\n",
        "## Task 1: 'time' library\n",
        "\n",
        "**Task 1a**:\n",
        "Import the 'time' library and make use of the 'time.sleep()'\n",
        "function to create a 10 seconds countdown timer that counts\n",
        "to 1, printing the number of seconds remaining every second.\n",
        "\n",
        "**Task 1b**:\n",
        "Modify your code from Task 1a to include an 'input()' function\n",
        "asking the user for the number to countdown from, before\n",
        "counting down every second from the number given by the user.\n"
      ],
      "metadata": {
        "id": "qbYOu5MJDxvr"
      }
    },
    {
      "cell_type": "code",
      "source": [
        "# 8.1a\n",
        "import time\n",
        "\n",
        "for i in range(10, 0, -1):\n",
        "    print(i)\n",
        "    time.sleep(1)\n",
        "\n",
        "# 8.1b\n",
        "import time\n",
        "\n",
        "timer = int(input(\"From what number do you want to countdown from? \"))\n",
        "\n",
        "for i in range(timer, 0, -1):\n",
        "    print(i)\n",
        "    time.sleep(1)\n"
      ],
      "metadata": {
        "id": "YuqxaaoaD1qD"
      },
      "execution_count": null,
      "outputs": []
    },
    {
      "cell_type": "markdown",
      "source": [
        "\n",
        "## Task 2: 'random' library\n",
        "\n",
        "**Task 2a**:\n",
        "Import the 'random' library and create a program that randomly\n",
        "output a number between 1 to 6\n",
        "\n",
        "**Task 2b**:\n",
        "Using the 'random' library, create 20 numbers between 0 and\n",
        "9999 randomly.\n"
      ],
      "metadata": {
        "id": "wttrkoGSD3gT"
      }
    },
    {
      "cell_type": "code",
      "source": [
        "# 8.2a\n",
        "import random\n",
        "\n",
        "print(random.randint(1,6))\n",
        "\n",
        "# 8.2b\n",
        "import random\n",
        "\n",
        "for i in range(20):\n",
        "    print(random.randint(0,9999))\n"
      ],
      "metadata": {
        "id": "iyNwSSq4D6t7"
      },
      "execution_count": null,
      "outputs": []
    },
    {
      "cell_type": "markdown",
      "source": [
        "## Task 3: Print Boolean Value & Condition\n",
        "\n",
        "**Task 3a**:\n",
        "Assign a boolean value to a variable and print it.\n",
        "\n",
        "**Task 3b**:\n",
        "Create 2 variables both holding the \"True\" boolean.\n",
        "Print out the result of comparing the 2 variables using\n",
        "the \"==\" operator.\n",
        "\n",
        "**Task 3c**:\n",
        "Now, assign 1 variable the \"True\" boolean, and assign another\n",
        "variable the \"False\" boolean.\n",
        "\n",
        "Print out the result of comparing the 2 variables using\n",
        "the \"==\" operator."
      ],
      "metadata": {
        "id": "ylfxAZlxD8xB"
      }
    },
    {
      "cell_type": "code",
      "source": [
        "# 8.3a\n",
        "var = True\n",
        "\n",
        "print(var)\n",
        "\n",
        "# 8.3b\n",
        "var1 = True\n",
        "var2 = True\n",
        "\n",
        "result = var1 == var2\n",
        "\n",
        "print(result)\n",
        "\n",
        "# 8.3c\n",
        "var1 = True\n",
        "var2 = False\n",
        "\n",
        "result = var1 == var2\n",
        "\n",
        "print(result)\n"
      ],
      "metadata": {
        "id": "PCzjpByoEAhB"
      },
      "execution_count": null,
      "outputs": []
    },
    {
      "cell_type": "markdown",
      "source": [
        "\n",
        "## Task 4:\n",
        "\n",
        "**Task 4a**: Math Question Generator\n",
        "Using the 'random' library, generate 2 numbers between 1 and 50\n",
        "that the user must add together.\n",
        "\n",
        "The output should be one of the following:\n",
        "1. True (If the answer is correct)\n",
        "2. False (If the answer is wrong)\n",
        "\n",
        "Example:\n",
        "What is 2 + 5? << 7 >>\n",
        "True\n",
        "\n",
        "**Task 4b**: Range Guesser\n",
        "Create a program that generates a random number between 1 and\n",
        "50.\n",
        "\n",
        "The user should input a range (two numbers: start and end).\n",
        "\n",
        "The program checks if the random number falls within the user's\n",
        "range.\n",
        "\n",
        "The output should be one of the following:\n",
        "1. True (If the answer is correct)\n",
        "2. False (If the answer is wrong)\n"
      ],
      "metadata": {
        "id": "sEY3RVv8EEzV"
      }
    },
    {
      "cell_type": "code",
      "source": [
        "# 8.4a\n",
        "import random\n",
        "\n",
        "num1 = random.randint(1, 50)\n",
        "num2 = random.randint(1, 50)\n",
        "ans = num1 + num2\n",
        "\n",
        "user_ans = int(input(\"What is \" + str(num1) + \" + \" + str(num2) + \"? \" ))\n",
        "\n",
        "print(user_ans == ans)\n",
        "\n",
        "# 8.4b\n",
        "import random\n",
        "\n",
        "rand_num = random.randint(1, 50)\n",
        "\n",
        "start = int(input(\"Guess the start range (smaller number): \"))\n",
        "end = int(input(\"Guess the end range (bigger number): \"))\n",
        "\n",
        "is_within_range = start <= rand_num <= end\n",
        "\n",
        "print(is_within_range)\n"
      ],
      "metadata": {
        "id": "ky0EWskZEJDe"
      },
      "execution_count": null,
      "outputs": []
    },
    {
      "cell_type": "markdown",
      "source": [
        "\n",
        "## Task 5: Random Number Guessing Game\n",
        "\n",
        "Create a simple program to guess a random number:\n",
        "a. Create a variable called 'guess' and assign a number that\n",
        "   you are guessing\n",
        "b. Create a variable called 'num1' and assign a random integer\n",
        "   between 1 to 10.\n",
        "\n",
        "Your program will check if 'guess' is equal to 'num1'.\n",
        "\n",
        "The output should be one of the following:\n",
        "1. True (If the answer is correct)\n",
        "2. False (If the answer is wrong)"
      ],
      "metadata": {
        "id": "W0hwUN4lEMOa"
      }
    },
    {
      "cell_type": "code",
      "source": [
        "# 8.5\n",
        "# Assigning a number to 'guess'\n",
        "guess = int(input(\"What is your guess? \"))\n",
        "\n",
        "# Assigning a random integer between 1 and 10 to 'num1'\n",
        "num1 = random.randint(1, 10)\n",
        "\n",
        "# Checking if 'guess' is equal to 'num1'\n",
        "is_correct = guess == num1\n",
        "\n",
        "print(is_correct)\n"
      ],
      "metadata": {
        "id": "VsRcIiUBEQCd"
      },
      "execution_count": null,
      "outputs": []
    },
    {
      "cell_type": "markdown",
      "source": [
        "\n",
        "## Task 6: Random Multiplication Quiz\n",
        "\n",
        "You have been tasked by Ms Tan, the Math teacher to create a\n",
        "multiplication quiz.\n",
        "\n",
        "Create a program that generates a certain number of random\n",
        "multiplication questions.\n",
        "\n",
        "Each question should involve multiplying 2 random numbers\n",
        "between 1 and 10. The user should input the number of questions\n",
        "they want to attempt.\n"
      ],
      "metadata": {
        "id": "XFkooYm_ERwQ"
      }
    },
    {
      "cell_type": "code",
      "source": [
        "# 8.6\n",
        "import random\n",
        "\n",
        "num_qn = int(input(\"How many multiplication questions would you like? \"))\n",
        "\n",
        "for i in range(num_qn):\n",
        "    num1 = random.randint(1, 10)\n",
        "    num2 = random.randint(1, 10)\n",
        "    ans = num1 * num2\n",
        "\n",
        "    user_ans = int(input(\"What is \" + str(num1) + \" x \" + str(num2) + \"? \" ))\n",
        "\n",
        "    print(user_ans == ans)\n"
      ],
      "metadata": {
        "id": "t6e7XZoMEVuL"
      },
      "execution_count": null,
      "outputs": []
    },
    {
      "cell_type": "markdown",
      "source": [
        "\n",
        "## Task 7: Even or Odd Checker\n",
        "\n",
        "Write a program that asks the user to enter a number. The\n",
        "program then tells the user whether the number is even\n",
        "(True) or odd (False).\n",
        "\n",
        "Your program needs to:\n",
        "1. Ask user for an integer input.\n",
        "2. Check if there is any remainder when user input is divided\n",
        "   by 2 (using '%').\n",
        "3. Print 'True' if number is even, otherwise print 'False'."
      ],
      "metadata": {
        "id": "hnO8znpPEVKO"
      }
    },
    {
      "cell_type": "code",
      "execution_count": null,
      "metadata": {
        "id": "Fhh8nggjDYF7"
      },
      "outputs": [],
      "source": [
        "# 8.7\n",
        "number = int(input(\"Enter a number: \"))\n",
        "\n",
        "is_even = number % 2 == 0\n",
        "\n",
        "print(\"The number is even: \" + str(is_even))\n"
      ]
    },
    {
      "cell_type": "markdown",
      "source": [
        "\n",
        "## Task 8: Multiple Check Program\n",
        "\n",
        "Create a program where the user enters 2 numbers. The\n",
        "program then checks if the first number is a multiple of\n",
        "the second number.\n",
        "\n",
        "Your program needs to:\n",
        "1. Get user to input 2 numbers.\n",
        "2. Check if there is any remainder when number #1 is divided\n",
        "   by number #2\n",
        "3. Print 'True' if number #1 is a multiple of number #2,\n",
        "   otherwise print 'False'."
      ],
      "metadata": {
        "id": "_vKKeJ3FEdSn"
      }
    },
    {
      "cell_type": "code",
      "source": [
        "# 8.8\n",
        "number1 = int(input(\"Enter the first number: \"))\n",
        "number2 = int(input(\"Enter the second number: \"))\n",
        "\n",
        "is_multiple = number1 % number2 == 0\n",
        "\n",
        "print(\"Is the first number a multiple of the second? \" + str(is_multiple))"
      ],
      "metadata": {
        "id": "NtWiwcQTEgqH"
      },
      "execution_count": null,
      "outputs": []
    }
  ]
}