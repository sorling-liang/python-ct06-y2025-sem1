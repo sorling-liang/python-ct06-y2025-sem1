{
  "nbformat": 4,
  "nbformat_minor": 0,
  "metadata": {
    "colab": {
      "provenance": []
    },
    "kernelspec": {
      "name": "python3",
      "display_name": "Python 3"
    },
    "language_info": {
      "name": "python"
    }
  },
  "cells": [
    {
      "cell_type": "markdown",
      "source": [
        "# Lesson 12 - While Loops\n"
      ],
      "metadata": {
        "id": "aqNxhgg1SYSi"
      }
    },
    {
      "cell_type": "markdown",
      "source": [
        "\n",
        "# Recap 1: Multiples of 3 and 5\n",
        "Create a program to check if a number is both divisible by 3\n",
        "and 5.\n",
        "\n",
        "1. Ask the user to input a number\n",
        "2. Using the '%' operator, check if the number is both a\n",
        "   multiple of 3 and 5:\n",
        "    If true, print \"The number is divisible by 3 and 5!\"\n",
        "3. Else, print \"The number is not divisible by 3 and 5\"\n"
      ],
      "metadata": {
        "id": "9T08fMSdSeZJ"
      }
    },
    {
      "cell_type": "code",
      "source": [
        "# 12.Recap1\n",
        "num = int(input(\"Number to check if multiple of 3 and 5: \"))\n",
        "\n",
        "if (num % 3 == 0) and (num % 5 == 0):\n",
        "    print(\"The number is divisble by 3 and 5!\")\n",
        "else:\n",
        "    print(\"The number is not divisble by 3 and 5\")\n",
        "\n",
        "\n"
      ],
      "metadata": {
        "id": "5sJbmB7OSjdc"
      },
      "execution_count": null,
      "outputs": []
    },
    {
      "cell_type": "markdown",
      "source": [
        "\n",
        "# Task 1: Introduction to while loop\n",
        "**Task 1a**:\n",
        "Due to a pandemic, the government placed a limit to the number\n",
        "of visitors a venue can have.\n",
        "\n",
        "Using a 'while' loop, create a program that will increase the\n",
        "number of visitors by 1 before printing out the number of\n",
        "visitors admitted, until number of visitors reaches 50.\n",
        "\n",
        "1. Create a 'visitors' variable and assign '0' to it\n",
        "2. While there is less than 50 visitors,\n",
        "\n",
        "    I. Increase the visitor count by 1\n",
        "    \n",
        "    II. Print the visitor count\n"
      ],
      "metadata": {
        "id": "csSx4XfCSj0z"
      }
    },
    {
      "cell_type": "code",
      "source": [
        "\n",
        "# 12.1a\n",
        "visitors = 0\n",
        "\n",
        "while visitors < 50:\n",
        "    visitors += 1\n",
        "    print(\"Visitors admitted: \" + str(visitors))\n"
      ],
      "metadata": {
        "id": "NZwyelE9SoZv"
      },
      "execution_count": null,
      "outputs": []
    },
    {
      "cell_type": "markdown",
      "source": [
        "\n",
        "(For Task 1b & 1c)\n",
        "Modify your program to account for the number of visitors\n",
        "already present at the venue, and the number of maximum visitors\n",
        "allowed for the following:\n",
        "\n",
        "**Task 1b**:\n",
        "Visitors already present: 18\n",
        "\n",
        "Max visitors allowed: 30\n",
        "\n",
        "**Task 1c**:\n",
        "Visitors already present: 4\n",
        "\n",
        "Max visitors allowed: 25\n"
      ],
      "metadata": {
        "id": "qnDiGWEESo5V"
      }
    },
    {
      "cell_type": "code",
      "source": [
        "\n",
        "# 12.1b\n",
        "visitors = 18\n",
        "\n",
        "while visitors < 30:\n",
        "    visitors += 1\n",
        "    print(\"Visitors admitted: \" + str(visitors))\n",
        "\n",
        "# 12.1c\n",
        "visitors = 4\n",
        "\n",
        "while visitors < 25:\n",
        "    visitors += 1\n",
        "    print(\"Visitors admitted: \" + str(visitors))\n",
        "\n"
      ],
      "metadata": {
        "id": "gfiXQNCXSrpK"
      },
      "execution_count": null,
      "outputs": []
    },
    {
      "cell_type": "markdown",
      "source": [
        "\n",
        "# Task 2: while... break\n",
        "A restaurant used to have a max capacity of 50. However, due to\n",
        "the worsening of the pandemic, the government has restricted the\n",
        "max capacity of the restaurant to 30.\n",
        "\n",
        "Using an 'if' condition and 'break' within the 'while' loop,\n",
        "modify your answer for Task 1a to terminate the 'while' loop when\n",
        "number of visitors is 30.\n"
      ],
      "metadata": {
        "id": "V6RxnIo9SsDD"
      }
    },
    {
      "cell_type": "code",
      "source": [
        "\n",
        "# 12.2\n",
        "visitors = 0\n",
        "\n",
        "while visitors < 50:\n",
        "    visitors += 1\n",
        "    print(\"Visitors admitted: \" + str(visitors))\n",
        "    if visitors >= 30:\n",
        "        break\n"
      ],
      "metadata": {
        "id": "UZ20OiaeSu5P"
      },
      "execution_count": null,
      "outputs": []
    },
    {
      "cell_type": "markdown",
      "source": [
        "\n",
        "# Task 3: Order taking using while loop\n",
        "Using what you have learnt so far, code a program to take a\n",
        "customer's order.\n",
        "\n",
        "Declare a variable called 'order' and assign an empty string\n",
        "variable \"\" to it.\n",
        "\n",
        "Using a 'while' loop:\n",
        "1. Ask the user to enter their order\n",
        "2. For each order entered, concatenate to the 'order' variable.\n",
        "3. Exit the 'while' loop if the user enters \"end\"\n",
        "4. On program end, print out the customer's order.\n",
        "\n",
        "**Bonus**\n",
        "1. Modify your code to remove the comma (\",\") that appears\n",
        "   either at the start or end of your sentence\n"
      ],
      "metadata": {
        "id": "4s3lvqVQSvPf"
      }
    },
    {
      "cell_type": "code",
      "source": [
        "\n",
        "# 12.3\n",
        "order = input(\"What would you like to order? \")\n",
        "\n",
        "while True:\n",
        "    user_input = input(\"What would you like to order? \")\n",
        "    if user_input == \"end\":\n",
        "        break\n",
        "    else:\n",
        "        order = order + \", \" + user_input\n",
        "\n",
        "print(\"You have ordered: \" + order)\n",
        "\n"
      ],
      "metadata": {
        "id": "OR-yl2szSzfb"
      },
      "execution_count": null,
      "outputs": []
    },
    {
      "cell_type": "markdown",
      "source": [
        "\n",
        "# Task 4: while... else\n",
        "The else condition will run when the loop exits normally.\n",
        "i.e. when the while condition is no longer true.\n",
        "\n",
        "Using 'else', create a program that will count from 10 to 1,\n",
        "before printing \"Happy New Year!\"\n",
        "\n",
        "**Task 4a**:\n",
        "Using a 'while' loop:\n",
        "1. Print the numbers from 10 to 1\n",
        "2. Once count reaches 1, use 'else' to print\n",
        "   \"Happy New Year!\"\n",
        "\n",
        "**Task 4b**:\n",
        "Now, modify your 'while' loop from Task 4a such that:\n",
        "1. If the number is 5, 'break' out of the loop\n",
        "2. Ensure your code has an 'else'\n",
        "\n",
        "Observe that \"Happy New Year!\" is no longer printed"
      ],
      "metadata": {
        "id": "IPwRkfWXSz4s"
      }
    },
    {
      "cell_type": "code",
      "source": [
        "\n",
        "# 12.4a\n",
        "count = 10\n",
        "\n",
        "while count >= 1:\n",
        "    print(count)\n",
        "    count -= 1\n",
        "else:\n",
        "    print(\"Happy New Year!\")\n",
        "\n",
        "\n",
        "# 12.4b\n",
        "count = 10\n",
        "\n",
        "while count >= 1:\n",
        "    if count == 5:\n",
        "        break\n",
        "    print(count)\n",
        "    count -= 1\n",
        "else:\n",
        "    print(\"Happy New Year!\")\n",
        "\n"
      ],
      "metadata": {
        "id": "c-aNzEQCS4MU"
      },
      "execution_count": null,
      "outputs": []
    },
    {
      "cell_type": "markdown",
      "source": [
        "\n",
        "# Task 5: Math Question\n",
        "**Task 5a**:\n",
        "Create a program to test the user on their math skills! The\n",
        "program will continue generating new questions until the user\n",
        "get the correct answer.\n",
        "\n",
        "1. Using a 'while' loop,\n",
        "2. Generate 2 random numbers between 1 and 10 (import 'random'\n",
        "   and use 'random.randint()')\n",
        "3. Ask the user to add the 2 numbers together in the following\n",
        "   format:\n",
        "    \"What is 3 + 5?\"\n",
        "4. If the user gets the correct answer:\n",
        "    Print \"That's correct!\n",
        "5. Else:\n",
        "    print \"Wrong! Try again\"\n",
        "    End the 'while' loop\n",
        "    \n",
        "**Bonus**\n",
        "Some ideas to improve on the above program:\n",
        "1. Print the user's score once the game is over\n",
        "2. Randomly choose an operator for each question: + - *\n"
      ],
      "metadata": {
        "id": "jZyuY1g6S4rN"
      }
    },
    {
      "cell_type": "code",
      "source": [
        "\n",
        "\n",
        "# 12.5a\n",
        "import random\n",
        "\n",
        "while True:\n",
        "    num1 = random.randint(1, 10)\n",
        "    num2 = random.randint(1, 10)\n",
        "    ans = num1 + num2\n",
        "    user_ans = int(input(\"What is \" + str(num1) + \" + \" + str(num2) + \"? \"))\n",
        "    if user_ans == ans:\n",
        "        print(\"That's correct!\")\n",
        "        break\n",
        "    else:\n",
        "        print(\"Wrong! Try again\")\n"
      ],
      "metadata": {
        "id": "qBpLIcY2S9dJ"
      },
      "execution_count": null,
      "outputs": []
    },
    {
      "cell_type": "code",
      "source": [
        "\n",
        "# 12.5a (with bonus)\n",
        "import random\n",
        "\n",
        "# Initialize the user's score\n",
        "score = 0\n",
        "\n",
        "while True:\n",
        "    num1 = random.randint(1, 10)\n",
        "    num2 = random.randint(1, 10)\n",
        "    op_choice = random.randint(1, 3)  # Randomly choose between 1 and 3\n",
        "\n",
        "    # Determine the operation and calculate the answer based on op_choice\n",
        "    if op_choice == 1:\n",
        "        operator = '+'\n",
        "        ans = num1 + num2\n",
        "    elif op_choice == 2:\n",
        "        operator = '-'\n",
        "        ans = num1 - num2\n",
        "    else:\n",
        "        operator = '*'\n",
        "        ans = num1 * num2\n",
        "\n",
        "    # Ask the user for their answer, using \"+\" for concatenation\n",
        "    user_ans = int(input(\"What is \" + str(num1) + \" \" + operator + \" \" + str(num2) + \"? \"))\n",
        "\n",
        "    # Check if the user's answer is correct\n",
        "    if user_ans == ans:\n",
        "        print(\"That's correct!\")\n",
        "        score += 1  # Increment score\n",
        "    else:\n",
        "        print(\"Wrong! Try again\")\n",
        "        break\n",
        "\n",
        "# Once the loop ends (game over), print the user's score\n",
        "print(\"Game over! Your score is: \" + str(score))\n",
        "\n"
      ],
      "metadata": {
        "id": "y7p8yUhGTg5b"
      },
      "execution_count": null,
      "outputs": []
    },
    {
      "cell_type": "markdown",
      "source": [
        "\n",
        "**Task 5b**:\n",
        "Modify your answer from Task 5a to keep asking a new\n",
        "question until the user get 5 correct answers.\n",
        "\n",
        "**Bonus**\n",
        "Some ideas to improve on the above program:\n",
        "1. Add a score system (+2 for right answer, -1 for wrong answer)\n",
        "2. Add an ability for users to skip by saying \"skip\"\n",
        "3. Disqualify user when they have gotten the wrong answer or\n",
        "   skipped more than 5 times.\n",
        "\n"
      ],
      "metadata": {
        "id": "e2csQ0dvS-FW"
      }
    },
    {
      "cell_type": "code",
      "source": [
        "\n",
        "# 12.5b\n",
        "import random\n",
        "\n",
        "correct_answers = 0\n",
        "\n",
        "while correct_answers < 5:\n",
        "    num1 = random.randint(1, 10)\n",
        "    num2 = random.randint(1, 10)\n",
        "    ans = num1 + num2\n",
        "    user_ans = int(input(f\"What is {num1} + {num2}? \"))\n",
        "    if user_ans == ans:\n",
        "        print(\"That's correct!\")\n",
        "        correct_answers += 1\n",
        "    else:\n",
        "        print(\"Wrong! Try again\")\n",
        "\n",
        "print(\"Congratulations! You've got 5 correct answers.\")\n"
      ],
      "metadata": {
        "id": "clAd70DLTAwC"
      },
      "execution_count": null,
      "outputs": []
    },
    {
      "cell_type": "code",
      "source": [
        "\n",
        "# 15.5b (with bonus)\n",
        "import random\n",
        "\n",
        "# Initialize the user's score and skip/wrong answer count\n",
        "score = 0\n",
        "skip_count = 0\n",
        "\n",
        "while score < 5 and skip_count <= 5:\n",
        "    num1 = random.randint(1, 10)\n",
        "    num2 = random.randint(1, 10)\n",
        "    op_choice = random.randint(1, 3)  # Randomly choose between 1 and 3\n",
        "\n",
        "    # Determine the operation and calculate the answer based on op_choice\n",
        "    if op_choice == 1:\n",
        "        operator = '+'\n",
        "        ans = num1 + num2\n",
        "    elif op_choice == 2:\n",
        "        operator = '-'\n",
        "        ans = num1 - num2\n",
        "    else:\n",
        "        operator = '*'\n",
        "        ans = num1 * num2\n",
        "\n",
        "    # Ask the user for their answer, using \"+\" for concatenation\n",
        "    user_input = input(\"What is \" + str(num1) + \" \" + operator + \" \" + str(num2) + \"? \")\n",
        "\n",
        "    # Allow user to skip\n",
        "    if user_input.lower() == \"skip\":\n",
        "        skip_count += 1\n",
        "        print(\"Question skipped.\")\n",
        "        if skip_count > 5:\n",
        "            print(\"Disqualified for skipping too many questions.\")\n",
        "            break\n",
        "    elif user_input.isdigit():\n",
        "        user_ans = int(user_input)\n",
        "        # Check if the user's answer is correct\n",
        "        if user_ans == ans:\n",
        "            print(\"That's correct!\")\n",
        "            score += 1\n",
        "        else:\n",
        "            print(\"Wrong! Try again.\")\n",
        "            skip_count += 1  # Treat wrong answers as skips for disqualification purposes\n",
        "            if skip_count > 5:\n",
        "                print(\"Disqualified for too many wrong answers.\")\n",
        "                break\n",
        "    else:\n",
        "        print(\"Invalid input, please enter a number or 'skip'.\")\n",
        "\n",
        "# Check reason for game ending\n",
        "if score >= 5:\n",
        "    print(\"Game over! You have answered 5 questions correctly.\")\n",
        "else:\n",
        "    print(\"Game over! Disqualified.\")\n",
        "\n"
      ],
      "metadata": {
        "id": "_YdXZ2-WTpli"
      },
      "execution_count": null,
      "outputs": []
    },
    {
      "cell_type": "markdown",
      "source": [
        "\n",
        "# Task 6: Dice Roll till 4\n",
        "Using 'while' loop and the 'random.randint()' function from the\n",
        "'random' library, constantly print a random number between 1 and\n",
        "6 until the random number generated is 4.\n",
        "\n",
        "1. Import the 'random' library\n",
        "2. Create 'num' variable and assign it '0'\n",
        "3. While 'num' variable is not '4',\n",
        "    a. Using 'random.randint()', assign 'num' variable a random\n",
        "       number between 1 and 6.\n",
        "    b. Print the random number generated.\n",
        "\n",
        "**Bonus**\n",
        "Some ideas to improve on the above program:\n",
        "1. Add a counter variable and announce the number of tries it\n",
        "   took before rolling a '4'.\n",
        "2. Add the ability for the user to determine which number to roll\n",
        "   until (instead of '4' all the time).\n",
        "3. Break out of the 'while' loop if counter variable reaches 10\n",
        "   and print \"You have won the jackpot!\""
      ],
      "metadata": {
        "id": "eCFj5OXcSYF6"
      }
    },
    {
      "cell_type": "code",
      "execution_count": null,
      "metadata": {
        "id": "XzXdT-IGSOZM"
      },
      "outputs": [],
      "source": [
        "\n",
        "# 12.6\n",
        "import random\n",
        "\n",
        "num = 0\n",
        "\n",
        "while num != 4:\n",
        "    num = random.randint(1,6)\n",
        "    print(num)\n",
        "\n",
        "# 12.6 (With bonus)\n",
        "import random\n",
        "\n",
        "roll_till = int(input(\"What number would you like to roll until (1 to 6)? \"))\n",
        "num = 0\n",
        "counter = 0\n",
        "\n",
        "while num != roll_till:\n",
        "    num = random.randint(1,6)\n",
        "    print(num)\n",
        "    counter += 1\n",
        "    if counter > 10:\n",
        "        print(\"You have won the jackpot!\")\n",
        "        break\n",
        "\n",
        "\n",
        "print(\"Number of rolls: \" + str(counter))"
      ]
    }
  ]
}