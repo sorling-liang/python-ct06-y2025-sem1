{
  "nbformat": 4,
  "nbformat_minor": 0,
  "metadata": {
    "colab": {
      "provenance": []
    },
    "kernelspec": {
      "name": "python3",
      "display_name": "Python 3"
    },
    "language_info": {
      "name": "python"
    }
  },
  "cells": [
    {
      "cell_type": "markdown",
      "source": [
        "# Lesson 3 - Variables\n"
      ],
      "metadata": {
        "id": "dwF41HRsHiOI"
      }
    },
    {
      "cell_type": "markdown",
      "source": [
        "\n",
        "## Recap 1: Pseudo Code Practice\n",
        "Write a pseudocode that calculates the average score of the 4\n",
        "students:\n",
        "\n",
        "Adam: 60\n",
        "Brandon: 58\n",
        "Charlie: 98\n",
        "Daniel: 79\n",
        "\n"
      ],
      "metadata": {
        "id": "8-fPcnDrHiqP"
      }
    },
    {
      "cell_type": "code",
      "source": [
        "# 3.Recap1\n",
        "\n",
        "# 1. Start\n",
        "# 2. Initialize total_score to 0\n",
        "# 3. Add Adam's score to total_score (total_score = total_score + 60)\n",
        "# 4. Add Brandon's score to total_score (total_score = total_score + 58)\n",
        "# 5. Add Charlie's score to total_score (total_score = total_score + 98)\n",
        "# 6. Add Daniel's score to total_score (total_score = total_score + 79)\n",
        "# 7. Calculate the number of students (num_students = 4)\n",
        "# 8. Calculate the average score (average_score = total_score / num_students)\n",
        "# 9. Print the average_score\n",
        "# 10. End\n"
      ],
      "metadata": {
        "id": "Tl7e5hPMHokX"
      },
      "execution_count": null,
      "outputs": []
    },
    {
      "cell_type": "markdown",
      "source": [
        "\n",
        "\n",
        "## Task 1: Variables\n",
        "**Task 1a**:\n",
        "Create a variable named 'age' and assign your age to it.\n",
        "Then print the value of 'age'.\n",
        "\n",
        "**Task 1b**:\n",
        "Assign the value 10 to a variable 'x'.\n",
        "Then reassign 20 to variable x. Print 'x'."
      ],
      "metadata": {
        "id": "JBRs7FroHq8-"
      }
    },
    {
      "cell_type": "code",
      "source": [
        "\n",
        "# 3.1a\n",
        "age = 12\n",
        "print(age)\n",
        "\n",
        "# 3.1b\n",
        "x = 10\n",
        "x = 20\n",
        "print(x)\n"
      ],
      "metadata": {
        "id": "82E6V1EhHwPb"
      },
      "execution_count": null,
      "outputs": []
    },
    {
      "cell_type": "markdown",
      "source": [
        "\n",
        "\n",
        "## Task 2: Simple addition calculator\n",
        "**Task 2a**:\n",
        "Create 2 variables holding 2 different numbers:\n",
        "\n",
        "## Example:\n",
        "variable1 = 3\n",
        "\n",
        "variable2 = 5\n",
        "\n",
        "Print out the sum (\"+\") of the 2 numbers\n",
        "\n",
        "## Example:\n",
        "Output: 8\n"
      ],
      "metadata": {
        "id": "4PcHcLtKHyUK"
      }
    },
    {
      "cell_type": "code",
      "source": [
        "\n",
        "# 3.2a\n",
        "variable1 = 3\n",
        "variable2 = 5\n",
        "\n",
        "print(variable1 + variable2)\n"
      ],
      "metadata": {
        "id": "aRsBQoweH4k1"
      },
      "execution_count": null,
      "outputs": []
    },
    {
      "cell_type": "markdown",
      "source": [
        "\n",
        "**Task 2b**:\n",
        "Print out the product (‘×’), division (‘/’), and differences\n",
        "(‘-’) of the 2 numbers.\n",
        "\n",
        "## Example:\n",
        "variable1 = 3\n",
        "\n",
        "variable2 = 5\n",
        "\n",
        "Output:\n",
        "\n",
        "\\>>> 8 (addition)\n",
        "\n",
        "\\>>> 15 (multiplication)\n",
        "\n",
        "\\>>> 0.6 (division)\n",
        "\n",
        "\\>>> -2 (difference)\n"
      ],
      "metadata": {
        "id": "PlRnNjUkH49b"
      }
    },
    {
      "cell_type": "code",
      "source": [
        "\n",
        "# 3.2b\n",
        "variable1 = 3\n",
        "variable2 = 5\n",
        "\n",
        "print(variable1 + variable2)\n",
        "print(variable1 * variable2)\n",
        "print(variable1 / variable2)\n",
        "print(variable1 - variable2)"
      ],
      "metadata": {
        "id": "9q9dpG9uIJvn"
      },
      "execution_count": null,
      "outputs": []
    },
    {
      "cell_type": "markdown",
      "source": [
        "\n",
        "## Task 3: Mathematics with variables\n",
        "For each of the following questions, create variables to hold\n",
        "the values given before finally using print(ans) to print the\n",
        "answer:\n",
        "\n",
        "**Task 3a**:\n",
        "Create 2 variables 'a' and 'b', assign any number to\n",
        "them and print their sum.\n",
        "\n",
        "**Task 3b**:\n",
        "Subtract 10 from 50, then multiply the result by 3.\n",
        "\n",
        "**Task 3c**:\n",
        "Divide 100 by 4 and print the result.\n",
        "\n",
        "**Task 3d**:\n",
        "Calculate and print the result of (3 + 4) * 5 - (10 / 2)."
      ],
      "metadata": {
        "id": "uHXuECL9IL4V"
      }
    },
    {
      "cell_type": "code",
      "execution_count": null,
      "metadata": {
        "id": "XqVMnEtsHXV5"
      },
      "outputs": [],
      "source": [
        "\n",
        "# 3.3a\n",
        "a = 6\n",
        "b = 1\n",
        "\n",
        "ans = a + b\n",
        "\n",
        "print(ans)\n",
        "\n",
        "# 3.3b\n",
        "a = 50\n",
        "b = 10\n",
        "c = a - b\n",
        "ans = c * 3\n",
        "\n",
        "print(ans)\n",
        "\n",
        "# 3.3c\n",
        "a = 100\n",
        "b = 4\n",
        "\n",
        "ans = a / 4\n",
        "\n",
        "print(ans)\n",
        "\n",
        "# 3.3d\n",
        "a = (3 + 4)\n",
        "b = (10 / 2)\n",
        "c = a * 5\n",
        "ans = c - b\n",
        "\n",
        "print(ans)"
      ]
    }
  ]
}