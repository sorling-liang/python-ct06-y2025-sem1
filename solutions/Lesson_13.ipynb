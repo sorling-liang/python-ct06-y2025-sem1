{
  "nbformat": 4,
  "nbformat_minor": 0,
  "metadata": {
    "colab": {
      "provenance": []
    },
    "kernelspec": {
      "name": "python3",
      "display_name": "Python 3"
    },
    "language_info": {
      "name": "python"
    }
  },
  "cells": [
    {
      "cell_type": "markdown",
      "source": [
        "# Lesson 13 - Lists\n"
      ],
      "metadata": {
        "id": "LRX2-kTL2_y-"
      }
    },
    {
      "cell_type": "markdown",
      "source": [
        "\n",
        "# Recap 1: ATM Simulator\n",
        "Using 'while' loop and 'if' conditions, create a program to\n",
        "simulate an ATM. Users of your ATM must be able to withdraw,\n",
        "deposit, and check balance.\n",
        "\n",
        "1. The user starts with an account balance of $1000\n",
        "2. Using a 'while' loop, the program should repeatedly ask the user\n",
        "   to choose between \"Withdraw\", \"Deposit\", \"Check Balance\", and\n",
        "   \"Exit\" options.\n",
        "3. If the user chooses \"Withdraw\":\n",
        "    \n",
        "    a.  Ask the user for the amount to withdraw.\n",
        "    \n",
        "    b.  Check if the balance is sufficient. If it is, deduct the amount from the balance and display a success message along with the remaining balance\n",
        "    \n",
        "    c.  If the balance is not sufficient, display an error message.\n",
        "4. If the user chooses \"Deposit\":\n",
        "    \n",
        "    a.  Ask for the amount to deposit.\n",
        "   \n",
        "    b.  Add the amount to the balance and display the updated balance.\n",
        "5. If the user chooses \"Check Balance\":\n",
        "   \n",
        "    a.  Display the current balance.\n",
        "6. The program should continue running (asking these options) until\n",
        "   the user chooses the \"Exit\" option.\n",
        "\n",
        "\n"
      ],
      "metadata": {
        "id": "vkUgE0ZE4S3i"
      }
    },
    {
      "cell_type": "code",
      "source": [
        "# 13.Recap1\n",
        "balance = 1000\n",
        "\n",
        "while True:\n",
        "    print(\"Choose from one of the options (1-4):\")\n",
        "    print(\"1: Withdraw\")\n",
        "    print(\"2: Deposit\")\n",
        "    print(\"3: Check Balance\")\n",
        "    print(\"4: Exit\")\n",
        "    userChoice = int(input(\"Choice: \"))\n",
        "    if userChoice == 1:\n",
        "        withdrawAmt = int(input(\"How much would you like to withdraw? \"))\n",
        "        if withdrawAmt <= balance:\n",
        "            balance -= withdrawAmt\n",
        "            print(\"You have withdrawn $\" + str(withdrawAmt))\n",
        "            print(\"Balance: $\" + str(balance))\n",
        "        else:\n",
        "            print(\"You have insufficient funds\")\n",
        "    elif userChoice == 2:\n",
        "        balance += int(input(\"How much would you like to deposit? \"))\n",
        "        print(\"Your new balance: \" + str(balance))\n",
        "    elif userChoice == 3:\n",
        "        print(\"Your current balance is: $\" + str(balance))\n",
        "    elif userChoice == 4:\n",
        "        break\n",
        "\n"
      ],
      "metadata": {
        "id": "RTytkEM33AT3"
      },
      "execution_count": null,
      "outputs": []
    },
    {
      "cell_type": "markdown",
      "source": [
        "\n",
        "# Task 1: List of groceries\n",
        "**Task 1a**:\n",
        "Create a list of 8 groceries you need to buy:\n",
        "1. Apples\n",
        "2. Bread\n",
        "3. Carrots\n",
        "4. Dates\n",
        "5. Eggs\n",
        "6. Flour\n",
        "7. Grapes\n",
        "8. Honey\n",
        "\n",
        "**Task 1b**:\n",
        "You have decided to get \"Herbs\" instead of \"Honey\".\n",
        "Rename \"Honey\" to \"Herbs\"\n",
        "\n",
        "**Task 1c**:\n",
        "1. You have just ran out of Ice. Add \"Ice\" into the list.\n",
        "2. Insert \"Bananas\" between \"Apples\" and \"Bread\".\n",
        "\n",
        "**Task 1d**:\n",
        "You no longer want any bread. Delete \"Bread\" from the list.\n",
        "\n",
        "\n"
      ],
      "metadata": {
        "id": "FJgxb_BA4LeK"
      }
    },
    {
      "cell_type": "code",
      "source": [
        "\n",
        "\n",
        "# 13.1a\n",
        "groceries = [\n",
        "    \"Apples\",\n",
        "    \"Bread\",\n",
        "    \"Carrots\",\n",
        "    \"Dates\",\n",
        "    \"Eggs\",\n",
        "    \"Flour\",\n",
        "    \"Grapes\",\n",
        "    \"Honey\"\n",
        "]\n",
        "\n",
        "# 13.1b\n",
        "groceries[7] = \"Herbs\"\n",
        "print(groceries)\n",
        "\n",
        "# 13.1c\n",
        "groceries.append(\"Ice\")\n",
        "print(groceries)\n",
        "\n",
        "groceries.insert(1, \"Bananas\")\n",
        "print(groceries)\n",
        "\n",
        "# 13.1d\n",
        "del(groceries[2])\n",
        "print(groceries)\n",
        "\n",
        "\n"
      ],
      "metadata": {
        "id": "gb1SrK2G3EGC"
      },
      "execution_count": null,
      "outputs": []
    },
    {
      "cell_type": "markdown",
      "source": [
        "\n",
        "# Task 2: List of groceries (part 2)\n",
        "1. Use a 'for' loop and print out all the groceries on your list\n",
        "2. If grocery == \"Apples\", print \"<grocery name>: I need 5 of these\"\n",
        "3. If grocery == \"Carrots\", print \"<grocery name>: I need 3 of\n",
        "   these\"\n",
        "4. If name == \"Grapes\", print \"<grocery name>: Get the FarmFresh\n",
        "   brand\"\n",
        "\n"
      ],
      "metadata": {
        "id": "nfl7JLYW4ERe"
      }
    },
    {
      "cell_type": "code",
      "source": [
        "\n",
        "\n",
        "# 13.2\n",
        "# Iterating through the list of groceries and printing out messages based on conditions\n",
        "for grocery in groceries:\n",
        "    if grocery == \"Apples\":\n",
        "        print(grocery + \": I need 5 of these\")\n",
        "    elif grocery == \"Carrots\":\n",
        "        print(grocery + \": I need 3 of these\")\n",
        "    elif grocery == \"Grapes\":\n",
        "        print(grocery + \": Get the FarmFresh brand\")\n",
        "\n"
      ],
      "metadata": {
        "id": "8nGkRdft3HkK"
      },
      "execution_count": null,
      "outputs": []
    },
    {
      "cell_type": "markdown",
      "source": [
        "\n",
        "\n",
        "# Task 3: Grocery shopping\n",
        "Write a program to keep track of the groceries you have placed\n",
        "into the basket.\n",
        "\n",
        "1. Use a 'while' loop to ask \"What item have you added to your\n",
        "   basket?\"\n",
        "2. Add the grocery into a list.\n",
        "3. If the user types \"end\", exit the loop\n",
        "4. Print all the groceries in the list in this format:\n",
        "    \n",
        "    a. \"I have bought Apples\"\n",
        "    \n",
        "    b. \"I have bought Bananas\"\n",
        "    \n",
        "    c. \"I have bought Carrots\"\n",
        "    \n",
        "    d. etc...\n",
        "\n"
      ],
      "metadata": {
        "id": "yiaINIlB4DSa"
      }
    },
    {
      "cell_type": "code",
      "source": [
        "\n",
        "\n",
        "# 13.3\n",
        "basket = []\n",
        "\n",
        "while True:\n",
        "    item = input(\"What item have you added to your basket? \")\n",
        "    if item == \"end\":\n",
        "        break\n",
        "    else:\n",
        "        basket.append(item)\n",
        "\n",
        "for i in basket:\n",
        "    print(\"I have bought \" + i)\n",
        "\n"
      ],
      "metadata": {
        "id": "_ggpph8l3J2J"
      },
      "execution_count": null,
      "outputs": []
    },
    {
      "cell_type": "markdown",
      "source": [
        "\n",
        "# Task 4: Online Catalogue\n",
        "**Task 4a**:\n",
        "Write a program to create an online catalogue for a grocery store.\n",
        "\n",
        "1. Using a 'while' loop, ask the user (grocery store manager) to\n",
        "   input the items their online catalogue should have.\n",
        "3. Add each item into the catalogue list\n",
        "4. End the loop when the user types \"end\"\n"
      ],
      "metadata": {
        "id": "jXJiM7sA3noS"
      }
    },
    {
      "cell_type": "code",
      "source": [
        "\n",
        "\n",
        "# 13.4a\n",
        "catalogue = []\n",
        "\n",
        "while True:\n",
        "    item = input(\"What item do you want to add to the online catalogue? \")\n",
        "    if item == \"end\":\n",
        "        break\n",
        "    else:\n",
        "        catalogue.append(item)\n",
        "\n",
        "print(\"The final menu is:\")\n",
        "for item in catalogue:\n",
        "    print(\"- \" + item)\n"
      ],
      "metadata": {
        "id": "YymSMlwx3L28"
      },
      "execution_count": null,
      "outputs": []
    },
    {
      "cell_type": "markdown",
      "source": [
        "\n",
        "**Task 4b**:\n",
        "Based on the list created by the grocery store manager, do the\n",
        "following:\n",
        "\n",
        "1. Imagine a customer browsing the website of the grocery store.\n",
        "   Ask the customer: \"What are you looking for?\"\n",
        "2. If the item is in the list, say \"Yes we sell that.\"\n",
        "3. Else, say \"Sorry, we don't have that.\"\n"
      ],
      "metadata": {
        "id": "f0j6LuOn3lem"
      }
    },
    {
      "cell_type": "code",
      "source": [
        "\n",
        "# 13.4b\n",
        "customer_choice = input(\"What are you looking for? \")\n",
        "\n",
        "# Initialize a variable to track if the item is found\n",
        "item_found = False\n",
        "\n",
        "# Loop through each item in the menu to check if the item exists\n",
        "for item in catalogue:\n",
        "    if item == customer_choice:\n",
        "        item_found = True\n",
        "        break  # Exit loop if item is found\n",
        "\n",
        "# Checking if the food is in the menu using the flag\n",
        "if item_found:\n",
        "    print(\"Yes we sell that.\")\n",
        "else:\n",
        "    print(\"Sorry, we don't have that.\")\n",
        "\n",
        "\n"
      ],
      "metadata": {
        "id": "2eQWFwmA3O-i"
      },
      "execution_count": null,
      "outputs": []
    },
    {
      "cell_type": "markdown",
      "source": [
        "\n",
        "# Task 5: Lucky draw number generator\n",
        "Create a lucky draw number generator that generates 10 numbers\n",
        "between 1 to 9999.\n",
        "\n",
        "1. Import the 'random' library\n",
        "2. Using the 'random.randint()' function and a 'for' loop, add 10\n",
        "   random numbers into a list\n",
        "3. Using another loop, announce the winners in the following format:\n",
        "   \n",
        "    a. Winner #1: 5426\n",
        "   \n",
        "    b. Winner #2: 3241\n",
        "   \n",
        "    c. Etc...\n"
      ],
      "metadata": {
        "id": "gWgJsmzH3a0f"
      }
    },
    {
      "cell_type": "code",
      "source": [
        "\n",
        "# 13.5\n",
        "# Re-importing the 'random' library and regenerating the lucky draw numbers after reset\n",
        "import random\n",
        "\n",
        "# Initialize an empty list to store the lucky draw numbers\n",
        "lucky_numbers = []\n",
        "\n",
        "# Using a 'for' loop to add 10 random numbers into the list\n",
        "for i in range(10):\n",
        "    number = random.randint(1, 9999)\n",
        "    lucky_numbers.append(number)\n",
        "\n",
        "# Preparing to display the winners in the specified format\n",
        "for i in len(lucky_numbers):\n",
        "    print(\"Winner #\" + str(i+1) + \": \" + str(lucky_numbers[i]))\n",
        "\n"
      ],
      "metadata": {
        "id": "LjyaDD3A3RHE"
      },
      "execution_count": null,
      "outputs": []
    },
    {
      "cell_type": "markdown",
      "source": [
        "\n",
        "# Task 6: Pizza Topping\n",
        "Create a program that asks the user what pizza topping they want\n",
        "\n",
        "1. Create a list of pizza toppings\n",
        "2. Print out the list of pizza toppings with an index number next\n",
        "   to each of them in this format:\n",
        "  \n",
        "    \"1. Mushrooms\"\n",
        "  \n",
        "    \"2. Pepperoni\"\n",
        "  \n",
        "    \"3. Pineapple\"\n",
        "    ...\n",
        "3. In a 'while' loop, ask the user which pizza topping they want\n",
        "   (By index)\n",
        "4. Exit the 'while' loop only when the user enters \"end\"\n",
        "5. Print the toppings that the user has selected"
      ],
      "metadata": {
        "id": "nwEco23d3YUM"
      }
    },
    {
      "cell_type": "code",
      "execution_count": null,
      "metadata": {
        "id": "9JznSG4n2tTY"
      },
      "outputs": [],
      "source": [
        "\n",
        "\n",
        "# 13.6\n",
        "# Step 1: Create a list of pizza toppings\n",
        "pizza_toppings = [\"Mushrooms\", \"Pepperoni\", \"Pineapple\", \"Onions\", \"Sausage\", \"Bacon\", \"Extra cheese\", \"Black olives\", \"Green peppers\", \"Fresh garlic\"]\n",
        "user_toppings = []\n",
        "\n",
        "# Step 2: Use a 'for' loop to print the list of pizza toppings without using len() or enumerate()\n",
        "print(\"Available pizza toppings:\")\n",
        "i = 1  # Manually track the index\n",
        "for topping in pizza_toppings:\n",
        "    print(str(i) + \". \" + topping)\n",
        "    i += 1  # Increment the index manually\n",
        "\n",
        "# Step 3: Ask the user which pizza topping they want (By index)\n",
        "\n",
        "while True:\n",
        "    user_choice = input(\"Please choose your pizza topping by number: \")\n",
        "    if user_choice == \"end\":\n",
        "        break\n",
        "    else:\n",
        "        user_toppings.append(pizza_toppings[int(user_choice) - 1])\n",
        "\n",
        "for i in user_toppings:\n",
        "    print(i)"
      ]
    }
  ]
}