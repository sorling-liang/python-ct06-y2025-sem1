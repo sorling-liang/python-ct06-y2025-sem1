{
  "nbformat": 4,
  "nbformat_minor": 0,
  "metadata": {
    "colab": {
      "provenance": []
    },
    "kernelspec": {
      "name": "python3",
      "display_name": "Python 3"
    },
    "language_info": {
      "name": "python"
    }
  },
  "cells": [
    {
      "cell_type": "markdown",
      "source": [
        "# Lesson 7 - For Loop (Part 2)\n"
      ],
      "metadata": {
        "id": "Pj4dIH6JFa0O"
      }
    },
    {
      "cell_type": "markdown",
      "source": [
        "## Recap 1: Debugging Average Score Program\n",
        "\n",
        "### There is a total of 3 bugs in the following program.\n",
        "### Identify and fix the bugs:"
      ],
      "metadata": {
        "id": "Cqrt8AyHFd-Z"
      }
    },
    {
      "cell_type": "code",
      "source": [
        "# 7.Recap1\n",
        "score_one = 80\n",
        "score_two = 90\n",
        "score_three = 75\n",
        "\n",
        "total = score_one + score_two + score_three\n",
        "\n",
        "average_score = total / 3\n",
        "\n",
        "student_name = \"Alex\"\n",
        "\n",
        "print(\"Average score for \" + student_name + \" is: \" + str(average_score))\n",
        "\n"
      ],
      "metadata": {
        "id": "NyOE7HUJFiLl"
      },
      "execution_count": null,
      "outputs": []
    },
    {
      "cell_type": "markdown",
      "source": [
        "\n",
        "## Task 1: For Loop: 1 to 10 using range(start, stop)\n"
      ],
      "metadata": {
        "id": "yx2Vqsp4Fj8M"
      }
    },
    {
      "cell_type": "code",
      "source": [
        "\n",
        "# 7.1\n",
        "# Printing numbers from 1 to 10 using a for loop\n",
        "for i in range(1, 11):\n",
        "    print(i)\n"
      ],
      "metadata": {
        "id": "fCZQ5SseFm0O"
      },
      "execution_count": null,
      "outputs": []
    },
    {
      "cell_type": "markdown",
      "source": [
        "\n",
        "## Task 2: Even Numbers 2-20 Loop using\n",
        "##         range(start, stop, step)\n"
      ],
      "metadata": {
        "id": "8tsEi5VtFoXR"
      }
    },
    {
      "cell_type": "code",
      "source": [
        "\n",
        "# 7.2\n",
        "# Printing all even numbers between 2 and 20 using a for loop and range()\n",
        "for i in range(2, 21, 2):  # Start at 2, go up to 20, step by 2\n",
        "    print(i)\n"
      ],
      "metadata": {
        "id": "crrQSWI4Fq7I"
      },
      "execution_count": null,
      "outputs": []
    },
    {
      "cell_type": "markdown",
      "source": [
        "\n",
        "## Task 3: Countdown From 10 For Loop"
      ],
      "metadata": {
        "id": "YKSAEf_dFtDz"
      }
    },
    {
      "cell_type": "code",
      "source": [
        "\n",
        "# 7.3\n",
        "# Counting down from 10 to 1 using a for loop and range()\n",
        "for i in range(10, 0, -1):  # Start at 10, go down to 1, step by -1\n",
        "    print(i)\n"
      ],
      "metadata": {
        "id": "K5JMdeZ8FvgL"
      },
      "execution_count": null,
      "outputs": []
    },
    {
      "cell_type": "markdown",
      "source": [
        "## Task 4: Word Repetition Input Loop\n",
        "Ask the user for a word and a number n. Print the word repeated\n",
        "n times (on separate lines).\n",
        "\n",
        "Example:\n",
        "\n",
        "What word would you like to repeat? <<burger>>\n",
        "\n",
        "How many times would you like to repeat? << 3 >>\n",
        "\n",
        "output:\n",
        "\n",
        "burger\n",
        "\n",
        "burger\n",
        "\n",
        "burger"
      ],
      "metadata": {
        "id": "Tvo1aqomFxLB"
      }
    },
    {
      "cell_type": "code",
      "source": [
        "\n",
        "# 7.4\n",
        "word = input(\"What word would you like to repeat? \")\n",
        "n = int(input(\"How many times would you like to repeat? \"))\n",
        "\n",
        "# Using a for loop to print the word n times\n",
        "for _ in range(n):\n",
        "    print(word)\n"
      ],
      "metadata": {
        "id": "V3OqvOoQF05K"
      },
      "execution_count": null,
      "outputs": []
    },
    {
      "cell_type": "markdown",
      "source": [
        "\n",
        "## Task 5: Personalized Greeting Loop\n",
        "\n",
        "Ask for a user's name and an integer n, then print a\n",
        "personalized greeting n times.\n",
        "\n",
        "Example:\n",
        "What is your name? <<burger>>\n",
        "How many times would you like to repeat? << 3 >>\n",
        "\n",
        "output:\n",
        "Nice to meet you, burger\n",
        "Nice to meet you, burger\n",
        "Nice to meet you, burger\n"
      ],
      "metadata": {
        "id": "mSy_xAlLF3xF"
      }
    },
    {
      "cell_type": "code",
      "source": [
        "\n",
        "\n",
        "# 7.5\n",
        "name = input(\"What is your name? \")\n",
        "n = int(input(\"How many times would you like to repeat? \"))\n",
        "\n",
        "for _ in range(n):\n",
        "    print(\"Nice to meet you, \" + name)\n"
      ],
      "metadata": {
        "id": "2QNAor2pGCW0"
      },
      "execution_count": null,
      "outputs": []
    },
    {
      "cell_type": "markdown",
      "source": [
        "\n",
        "## Task 6: Sum of Five User Inputs\n",
        "\n",
        "Ask the user to input 5 numbers, one at a time, and print the\n",
        "sum of these numbers.\n",
        "\n",
        "Example:\n",
        "\n",
        "What is number #1? <<5>>\n",
        "\n",
        "What is number #2? <<2>>\n",
        "\n",
        "What is number #3? <<4>>\n",
        "\n",
        "What is number #4? <<1>>\n",
        "\n",
        "What is number #5? <<7>>\n",
        "\n",
        "output:\n",
        "Sum of the 5 numbers is 19"
      ],
      "metadata": {
        "id": "NxKB74CYGEm0"
      }
    },
    {
      "cell_type": "code",
      "source": [
        "\n",
        "# 7.6\n",
        "sum = 0\n",
        "\n",
        "for i in range(1, 6):\n",
        "    sum = sum + int(input(\"Input number #\" + str(i) + \": \"))\n",
        "print(\"Sum of all the numbers is: \" + str(sum))\n",
        "\n"
      ],
      "metadata": {
        "id": "ucET0FYYGKTL"
      },
      "execution_count": null,
      "outputs": []
    },
    {
      "cell_type": "markdown",
      "source": [
        "\n",
        "## Task 7: Multiplication Table Generator\n",
        "\n",
        "Ask the user for a number, then print the multiplication table\n",
        "for that number from 1 to 12.\n",
        "\n",
        "Example:\n",
        "What number for the timestable? > << 5 >>\n",
        "output:\n",
        "5 x 1 = 5\n",
        "5 x 2 = 10\n",
        "....\n",
        "..\n",
        "5 x 12 = 60\n"
      ],
      "metadata": {
        "id": "VrkDIN-jGTrq"
      }
    },
    {
      "cell_type": "code",
      "source": [
        "\n",
        "# 7.7\n",
        "num = int(input(\"What number for the timestable? \"))\n",
        "\n",
        "for i in range(1, 13):\n",
        "    print(str(num) + \" x \" + str(i) + \" = \" + str(num*i))\n",
        "\n",
        "\n"
      ],
      "metadata": {
        "id": "JPX03dHhGWwu"
      },
      "execution_count": null,
      "outputs": []
    },
    {
      "cell_type": "markdown",
      "source": [
        "\n",
        "## Task 8: Number Pyramid Pattern\n",
        "\n",
        "1. Ask the user for a number\n",
        "2. Using the 'for' loop, print out the number like the\n",
        "   following:\n",
        "\n",
        "1\n",
        "\n",
        "22\n",
        "\n",
        "333\n",
        "\n",
        "4444\n",
        "\n",
        "55555\n",
        "\n",
        "Hint: You can use a code like this >>> print(\"a\" * 5)"
      ],
      "metadata": {
        "id": "eBqV35HnGYpD"
      }
    },
    {
      "cell_type": "code",
      "source": [
        "\n",
        "# 7.8\n",
        "num = int(input(\"How many layers do you want the pyramid to have: \"))\n",
        "for i in range(1, num + 1):\n",
        "    print(str(str(i) * i))\n",
        "\n"
      ],
      "metadata": {
        "id": "fbnwIKB5GeWL"
      },
      "execution_count": null,
      "outputs": []
    },
    {
      "cell_type": "markdown",
      "source": [
        "\n",
        "## Task 9: Average Calculator of 5 numbers\n",
        "Ms Tan would like to calculate the average score of her 5\n",
        "students in class 6A.\n",
        "\n",
        "Write a program to calculate the average of 5 numbers.\n",
        "\n",
        "1. Using a 'for' loop, ask the user for 5 numbers one at a\n",
        "   time.\n",
        "2. Calculate the average for these 5 numbers and print it\n",
        "   out.\n",
        "\n",
        "You will need to\n",
        "a. sum up the numbers\n",
        "b. divide the sum by the total count.\n",
        "\n",
        "**DISCUSS with your Code Mentor and Class on how to\n",
        "calculate the average**\n"
      ],
      "metadata": {
        "id": "XymQSzRYGfri"
      }
    },
    {
      "cell_type": "code",
      "source": [
        "\n",
        "# 7.9\n",
        "sum = 0\n",
        "\n",
        "for i in range(1, 6):\n",
        "    sum = sum + int(input(\"Input number #\" + str(i) + \": \"))\n",
        "average = sum / 5\n",
        "print(\"Average of all the numbers is: \" + str(average))\n",
        ""
      ],
      "metadata": {
        "id": "9-YlTXINGkbE"
      },
      "execution_count": null,
      "outputs": []
    },
    {
      "cell_type": "markdown",
      "source": [
        "\n",
        "## Task 10: Dynamic Average Calculator\n",
        "Ms Tan also teaches class 6B and 6C, but all of them have\n",
        "different number of students. Modify your program so that Ms\n",
        "Tan can use the same program to calculate the average score\n",
        "for all her classes.\n",
        "\n",
        "Design a program that will calculate the average of the\n",
        "numbers based on the number of students.\n",
        "\n",
        "1. Ask the user for the number of score to find the\n",
        "   average of.\n",
        "2. Using a 'for' loop, ask the user for each student's score\n",
        "   one at a time.\n",
        "3. Calculate the average for the scores and print it out.\n",
        "\n",
        "You will need to:\n",
        "\n",
        "a. ask user for the number of students\n",
        "\n",
        "b. sum up the numbers\n",
        "\n",
        "c. divide the sum by the number of students"
      ],
      "metadata": {
        "id": "BfOd3yXKGme7"
      }
    },
    {
      "cell_type": "code",
      "execution_count": null,
      "metadata": {
        "id": "wLSiBXDFFVFK"
      },
      "outputs": [],
      "source": [
        "\n",
        "# 7.10\n",
        "sum = 0\n",
        "count = int(input(\"How many numbers would you like to find the average of: \"))\n",
        "\n",
        "for i in range(1, count + 1):\n",
        "    sum = sum + int(input(\"Input number #\" + str(i) + \": \"))\n",
        "average = sum / count\n",
        "print(\"Average of all the numbers is: \" + str(average))\n"
      ]
    }
  ]
}