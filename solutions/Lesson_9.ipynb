{
  "nbformat": 4,
  "nbformat_minor": 0,
  "metadata": {
    "colab": {
      "provenance": []
    },
    "kernelspec": {
      "name": "python3",
      "display_name": "Python 3"
    },
    "language_info": {
      "name": "python"
    }
  },
  "cells": [
    {
      "cell_type": "markdown",
      "source": [
        "# Lesson 9 - If Statements\n"
      ],
      "metadata": {
        "id": "t4ThnvdmGUvc"
      }
    },
    {
      "cell_type": "markdown",
      "source": [
        "# Recap 1: Dice Roll Simulator\n",
        "Generate and print 3 random numbers between 1 and 6, followed\n",
        "by an output of 'True' if all 3 numbers are either even or odd.\n",
        "\n",
        "Example:\n",
        "\n",
        "1st number: 6\n",
        "\n",
        "2nd number: 4\n",
        "\n",
        "3rd number: 6\n",
        "\n",
        "All numbers are even/odd: True\n",
        "\n",
        "Step by Step Guide:\n",
        "1. Import the 'random' library\n",
        "2. Create 3 variables to hold a random number that is between\n",
        "   1 and 6, generated using 'random.randint()'\n",
        "3. Using string concatenation, print the generated number for\n",
        "   each of the 3 numbers\n",
        "4. Using the '%' and '==' operator, check if each number is\n",
        "   divisible by 2 (remainder = 0)\n",
        "5. Using multiple '==' operators, a new variable 'all_even_odd'\n",
        "   should be assigned 'True' if all 3 numbers are either all\n",
        "   even or all odd numbers.\n",
        "6. Print if \"All numbers are even/odd\" is 'True' or 'False'"
      ],
      "metadata": {
        "id": "B2OA4lVkGkhh"
      }
    },
    {
      "cell_type": "code",
      "source": [
        "# 9.Recap1\n",
        "import random\n",
        "\n",
        "# Generate three random numbers between 1 and 6\n",
        "first_number = random.randint(1, 6)\n",
        "second_number = random.randint(1, 6)\n",
        "third_number = random.randint(1, 6)\n",
        "\n",
        "# Print the numbers\n",
        "print(\"1st number: \" + str(first_number))\n",
        "print(\"2nd number: \" + str(second_number))\n",
        "print(\"3rd number: \" + str(third_number))\n",
        "\n",
        "# Check if all numbers are even and print the result\n",
        "first_even = first_number % 2 == 0\n",
        "second_even = second_number % 2 == 0\n",
        "third_even = third_number % 2 == 0\n",
        "\n",
        "all_even_odd = first_even == second_even == third_even\n",
        "print(\"All numbers are even/odd: \" + str(all_even_odd))\n",
        "\n",
        "\n"
      ],
      "metadata": {
        "id": "5Gie52BMGvWI"
      },
      "execution_count": null,
      "outputs": []
    },
    {
      "cell_type": "markdown",
      "source": [
        "\n",
        "# Task 1: Flowchart for Library Reminder\n",
        "Draw out the flowchart (on a piece of paper) of a program\n",
        "to remind borrowers to return their books\n",
        "\n",
        "1. Ask the user to input the number of days a book has been\n",
        "   borrowed\n",
        "2. If the book has been borrowed for more than 25 days:\n",
        "    print \"Remember to return your book!\"\n"
      ],
      "metadata": {
        "id": "hZeJ88KcG1Jb"
      }
    },
    {
      "cell_type": "code",
      "source": [
        "# 9.1\n",
        "### Answer to flowchart is shown on the slides ###\n",
        "\n"
      ],
      "metadata": {
        "id": "oUH3VnaKG8BR"
      },
      "execution_count": null,
      "outputs": []
    },
    {
      "cell_type": "markdown",
      "source": [
        "\n",
        "# Task 2: Converting Library Reminder flowchart\n",
        "#         into code\n",
        "Translate the flowchart that you have drawn (shown on screen)\n",
        "into Python code.\n",
        "\n",
        "1. Ask the user to input the number of days a book has been\n",
        "   borrowed\n",
        "2. If the book has been borrowed for more than 25 days:\n",
        "    print \"Remember to return your book!\"\n",
        "\n",
        "Hint: remember to typecast your variables!\n"
      ],
      "metadata": {
        "id": "1UAfV5DuG-Lf"
      }
    },
    {
      "cell_type": "code",
      "source": [
        "# 9.2\n",
        "days = int(input(\"Number of days the book has been borrowed: \"))\n",
        "\n",
        "if days > 25:\n",
        "    print(\"Remember to return your book!\")\n",
        "\n",
        "\n"
      ],
      "metadata": {
        "id": "mb9TesRZHEIX"
      },
      "execution_count": null,
      "outputs": []
    },
    {
      "cell_type": "markdown",
      "source": [
        "\n",
        "# Task 3: Random Number Guesser I\n",
        "**Task 3a**:\n",
        "Draw out the flowchart (on a piece of paper) of a program for\n",
        "the user to guess a magic number:\n",
        "\n",
        "1. Generate a random integer between 1 to 10\n",
        "2. Ask the user to guess a number\n",
        "3. If the user guesses correctly:\n",
        "    print \"That's the magic number!\""
      ],
      "metadata": {
        "id": "Xdn2htmXHGEX"
      }
    },
    {
      "cell_type": "code",
      "source": [
        "# 9.3a\n",
        "### Answer to flowchart is shown on the slides ###\n"
      ],
      "metadata": {
        "id": "FuBBfaTrHLiF"
      },
      "execution_count": null,
      "outputs": []
    },
    {
      "cell_type": "markdown",
      "source": [
        "\n",
        "**Task 3b**:\n",
        "Translate the flowchart that you have drawn (shown on screen)\n",
        "into Python code.\n"
      ],
      "metadata": {
        "id": "zH_-0inxHN47"
      }
    },
    {
      "cell_type": "code",
      "source": [
        "# 9.3b\n",
        "import random\n",
        "\n",
        "rand_num = random.randint(1,10)\n",
        "guess = input(\"Guess an integer between 1 and 10: \")\n",
        "\n",
        "if guess == rand_num:\n",
        "    print(\"That's the magic number!\")\n",
        "\n"
      ],
      "metadata": {
        "id": "JWxaXN8LHRli"
      },
      "execution_count": null,
      "outputs": []
    },
    {
      "cell_type": "markdown",
      "source": [
        "\n",
        "# Task 4: Apple Shop\n",
        "**Task 4a**:\n",
        "Draw out the flowchart (on a piece of paper) of a program for\n",
        "the user to buy apples and calculate the price.\n",
        "\n",
        "Each apple costs $1\n",
        "\n",
        "1. Ask the user how many apples they want to buy\n",
        "2. If the user wants to buy more than 10 apples:\n",
        "   print \"You will get a 10% discount for buying that many\n",
        "   apples!\"\n",
        "4. Print the price of the purchase\n"
      ],
      "metadata": {
        "id": "n9__L-aBHTcI"
      }
    },
    {
      "cell_type": "code",
      "source": [
        "# 9.4a\n",
        "### Answer to flowchart is shown on the slides ###\n"
      ],
      "metadata": {
        "id": "8MONZE5-HaBb"
      },
      "execution_count": null,
      "outputs": []
    },
    {
      "cell_type": "markdown",
      "source": [
        "\n",
        "**Task 4b**:\n",
        "Translate the flowchart that you have drawn (shown on screen)\n",
        "into Python code."
      ],
      "metadata": {
        "id": "LndN2u4EHdGI"
      }
    },
    {
      "cell_type": "code",
      "source": [
        "# 9.4b\n",
        "px_apple = 1\n",
        "num_apples = int(input(\"How many apples would you like to buy? \"))\n",
        "\n",
        "if num_apples <= 10:\n",
        "    total = num_apples * px_apple\n",
        "    print(\"Total price is: \" + str(total))\n",
        "\n",
        "if num_apples > 10:\n",
        "    print(\"You will get a 10% discount for buying that many apples!\")\n",
        "    total = num_apples * px_apple * 0.9\n",
        "    print(\"Total price is: \" + str(total))\n",
        "\n"
      ],
      "metadata": {
        "id": "r4VJjuNMHf6M"
      },
      "execution_count": null,
      "outputs": []
    },
    {
      "cell_type": "markdown",
      "source": [
        "\n",
        "# Task 5: Fruits Shop\n",
        "**Task 5a**:\n",
        "Draw out the flowchart (on a piece of paper) of a program for\n",
        "the fruit shop, \"FruitiFresh\". FruitiFresh sells 2 fruits,\n",
        "Apple & Orange with the following pricing scheme:\n",
        "\n",
        "Apple:\n",
        "\n",
        "1 Apple = 60 cents\n",
        "\n",
        "If buy more than 5 apples, get 10% discount for all apples\n",
        "\n",
        "Orange:\n",
        "\n",
        "1 Orange = 90 cents\n",
        "\n",
        "If buy more than 5 oranges, get 10% discount for all oranges\n",
        "\n",
        "You want to create a program that:\n",
        "1. Asks the user for the number of apples and oranges they\n",
        "   want to buy.\n",
        "2. Print total price of the fruits\n"
      ],
      "metadata": {
        "id": "9kRWiDJIHhrF"
      }
    },
    {
      "cell_type": "code",
      "source": [
        "# 9.5a\n",
        "### Answer to flowchart is shown on the slides ###"
      ],
      "metadata": {
        "id": "9DqfYHQkHl20"
      },
      "execution_count": null,
      "outputs": []
    },
    {
      "cell_type": "markdown",
      "source": [
        "\n",
        "**Task 5b**:\n",
        "Translate the flowchart that you have drawn (shown on screen)\n",
        "into Python code.\n"
      ],
      "metadata": {
        "id": "Qn7h1WPZHnwy"
      }
    },
    {
      "cell_type": "code",
      "source": [
        "# 9.5b\n",
        "px_apple = 0.60\n",
        "px_orange = 0.90\n",
        "total = 0\n",
        "\n",
        "num_apples = int(input(\"How many apples would you like to buy? \"))\n",
        "num_oranges = int(input(\"How many oranges would you like to buy? \"))\n",
        "\n",
        "if num_apples <= 5:\n",
        "    total = total + (num_apples * px_apple)\n",
        "\n",
        "if num_apples > 5:\n",
        "    total = total + (num_apples * px_apple * 0.9)\n",
        "\n",
        "if num_oranges <= 5:\n",
        "    total = total + (num_oranges * px_orange)\n",
        "\n",
        "if num_oranges > 5:\n",
        "    total = total + (num_oranges * px_orange * 0.9)\n",
        "\n",
        "print(\"Total price is: \" + str(total))\n",
        "\n"
      ],
      "metadata": {
        "id": "S3kHdecEHqrX"
      },
      "execution_count": null,
      "outputs": []
    },
    {
      "cell_type": "markdown",
      "source": [
        "\n",
        "# Task 6: Flowchart for Temperature Monitor\n",
        "You are analyzing daily temperature readings over a week.\n",
        "Write a program to count how many days had a temperature\n",
        "that is greater than 30.\n",
        "\n",
        "Draw out the flowchart (on a piece of paper) of the above\n",
        "program.\n",
        "\n",
        "1. Start with creating and assigning the variable\n",
        "   \"positive_days\" to 0 before the loop.\n",
        "2. Use a for loop to iterate through each day of the week\n",
        "   (7 times)\n",
        "3. In each iteration the loop, prompt the user to input the\n",
        "   temperature for the day.\n",
        "4. Use an 'if' condition to check if the temperature is greater\n",
        "   than 30. If so, increase the variable 'positive_days' by\n",
        "   1\n",
        "5. After the loop, print the count of days with temperature\n",
        "   higher than 30."
      ],
      "metadata": {
        "id": "1jGTZVM-HsvJ"
      }
    },
    {
      "cell_type": "code",
      "source": [
        "# 9.6\n",
        "### Answer to flowchart is shown on the slides ###\n"
      ],
      "metadata": {
        "id": "y3r2Vg1rHwa2"
      },
      "execution_count": null,
      "outputs": []
    },
    {
      "cell_type": "markdown",
      "source": [
        "\n",
        "# Task 7: Converting Temperature Monitor flowchart\n",
        "#         into code\n",
        "Translate the flowchart that you have drawn (shown on screen)\n",
        "into Python code.\n",
        "\n",
        "1. Start with creating and assigning the variable\n",
        "   'positive_days' to 0 before the loop.\n",
        "2. Use a 'for' loop to iterate through each day of the week\n",
        "   (7 times)\n",
        "3. In each iteration, prompt the user to input the\n",
        "   temperature for the day.\n",
        "4. Use an 'if' condition to check if the temperature is greater\n",
        "   than 30. If so, increase the variable 'positive_days' by\n",
        "   1\n",
        "5. After the loop, print the count of days with temperature\n",
        "   higher than 30.\n"
      ],
      "metadata": {
        "id": "sjRMpu7uHyEb"
      }
    },
    {
      "cell_type": "code",
      "source": [
        "# 9.7\n",
        "# Initialize counter\n",
        "positive_days = 0\n",
        "\n",
        "# Assuming 7 days of readings for simplicity\n",
        "for _ in range(7):\n",
        "    temperature = float(input(\"Enter the day's temperature: \"))\n",
        "    if temperature > 0:\n",
        "        positive_days += 1\n",
        "\n",
        "print(\"Number of positive temperature days: \" + str(positive_days))\n"
      ],
      "metadata": {
        "id": "E5i8xVtSH4a-"
      },
      "execution_count": null,
      "outputs": []
    },
    {
      "cell_type": "markdown",
      "source": [
        "\n",
        "# Task 8: Summing Positive Numbers\n",
        "**Task 8a**:\n",
        "Draw out the flowchart (on a piece of paper) of a program\n",
        "that will calculate the total sum of **savings**\n",
        "(include in total only if savings for that day is positive)\n",
        "from a week's worth of data provided by the user every day.\n",
        "\n",
        "1. Create and assign 'sum' variable to 0.\n",
        "2. Use a 'for' loop to iterate through each day of the week\n",
        "   (7 times)\n",
        "3. In each iteration, prompt the user to input the\n",
        "   savings for the day.\n",
        "4. Use an if condition to check if the savings is greater\n",
        "   than 0. If so, increase the variable 'sum' by\n",
        "   that day's savings.\n",
        "5. After the loop, print the sum of savings for that week\n"
      ],
      "metadata": {
        "id": "OQSGdDTBH7FV"
      }
    },
    {
      "cell_type": "code",
      "source": [
        "# 9.8a\n",
        "### Answer to flowchart is shown on the slides ###\n"
      ],
      "metadata": {
        "id": "237LIr-nH_d5"
      },
      "execution_count": null,
      "outputs": []
    },
    {
      "cell_type": "markdown",
      "source": [
        "\n",
        "**Task 8b**:\n",
        "Translate the flowchart that you have drawn (shown on screen)\n",
        "into Python code.\n"
      ],
      "metadata": {
        "id": "-6MUnZvjIBB2"
      }
    },
    {
      "cell_type": "code",
      "source": [
        "# 9.8b\n",
        "# Initialize sum\n",
        "sum = 0\n",
        "\n",
        "# Loop through 7 days of savings\n",
        "for _ in range(7):\n",
        "    savings = float(input(\"Enter the day's savings: \"))\n",
        "    if savings > 0:\n",
        "        sum += savings\n",
        "\n",
        "print(\"Total savings: \" + str(sum))\n",
        "\n"
      ],
      "metadata": {
        "id": "dVEYiumiIDzh"
      },
      "execution_count": null,
      "outputs": []
    },
    {
      "cell_type": "markdown",
      "source": [
        "\n",
        "# Task 9: Experience Survey\n",
        "**Task 9a**:\n",
        "Draw out the flowchart (on a piece of paper) of the following:\n",
        "\n",
        "As part of a data analysis, you would like to create a program\n",
        "that surveys 10 hotel guests on their hotel experience based\n",
        "on a rating from 1 to 5.\n",
        "\n",
        "The program will keep a tally of the number of \"desirable\"\n",
        "ratings (higher than 3), and the number of \"undesirable\"\n",
        "ratings (3 and lower).\n",
        "\n",
        "The program will print the number of desirable and undesirable\n",
        "ratings after surveying 10 guests.\n",
        "\n",
        "1. Create 2 counter variables, \"desirable\" and \"undesirable\",\n",
        "   assigning each of them the value of 0\n",
        "2. Create a 'for' loop that repeats 10 times\n",
        "3. In each interation, ask the hotel guest to rate between\n",
        "   1 to 5.\n",
        "4. If the rating given is higher than 3, increase the\n",
        "   \"desirable\" variable by 1\n",
        "5. If the rating given is 3 and lower, increase the \"undeisrable\"\n",
        "   variable by 1.\n",
        "6. At the end of the 'for' loop, print the result in the\n",
        "   following format:\n",
        "\n",
        "   Desirable ratings: <results>, Undesirable ratings: <results>\n"
      ],
      "metadata": {
        "id": "Qwnr5NiIIGx7"
      }
    },
    {
      "cell_type": "code",
      "source": [
        "# 9.9a\n",
        "### Answer to flowchart is shown on the slides ###\n"
      ],
      "metadata": {
        "id": "wdttICYyILjj"
      },
      "execution_count": null,
      "outputs": []
    },
    {
      "cell_type": "markdown",
      "source": [
        "\n",
        "**Task 9b**:\n",
        "Translate the flowchart that you have drawn (shown on screen)\n",
        "into Python code."
      ],
      "metadata": {
        "id": "PE9rYQpeINYi"
      }
    },
    {
      "cell_type": "code",
      "execution_count": null,
      "metadata": {
        "id": "FM7_vQRjEhXk"
      },
      "outputs": [],
      "source": [
        "# 9.9b\n",
        "# Initialize counters\n",
        "desirable = 0\n",
        "undesirable = 0\n",
        "\n",
        "# Loop for user input\n",
        "for _ in range(10):\n",
        "    number = float(input(\"Enter a number: \"))\n",
        "    if number > 3:\n",
        "        desirable += 1\n",
        "    if number <= 3:\n",
        "        undesirable += 1\n",
        "\n",
        "print(f\"Desirable ratings: {desirable}, Undesirable ratings: {undesirable}\")\n"
      ]
    }
  ]
}