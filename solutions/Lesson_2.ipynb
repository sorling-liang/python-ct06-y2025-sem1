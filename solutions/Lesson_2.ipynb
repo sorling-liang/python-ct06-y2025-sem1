{
  "nbformat": 4,
  "nbformat_minor": 0,
  "metadata": {
    "colab": {
      "provenance": []
    },
    "kernelspec": {
      "name": "python3",
      "display_name": "Python 3"
    },
    "language_info": {
      "name": "python"
    }
  },
  "cells": [
    {
      "cell_type": "markdown",
      "source": [
        "# Lesson 2 - Introduction to Pseudocode\n"
      ],
      "metadata": {
        "id": "UYykOfqsGl70"
      }
    },
    {
      "cell_type": "markdown",
      "source": [
        "\n",
        "## Recap 1: Colours of the Rainbow\n",
        "Task:\n",
        "1. Using a new line for each colour, print out the 7\n",
        "   colours of the rainbow.\n",
        "2. Then, comment out every other line except for your\n",
        "   favourite colour."
      ],
      "metadata": {
        "id": "vW5SLhWHGlpV"
      }
    },
    {
      "cell_type": "code",
      "source": [
        "# 2.Recap1\n",
        "# print(\"Red\")\n",
        "# print(\"Orange\")\n",
        "# print(\"Yellow\")\n",
        "print(\"Green\")\n",
        "# print(\"Blue\")\n",
        "# print(\"Indigo\")\n",
        "# print(\"Violet\")\n"
      ],
      "metadata": {
        "id": "xb2RPgkMGsD2"
      },
      "execution_count": null,
      "outputs": []
    },
    {
      "cell_type": "markdown",
      "source": [
        "\n",
        "## Task 1: Solve the problem in pseudocode\n",
        "**Task 1a**:\n",
        "Task: Look at the screen and translate the code blocks\n",
        "into pseudocode\n",
        "\n",
        "**Task 1b**:\n",
        "Task: Look at the screen and translate the code blocks\n",
        "into pseudocode\n",
        "\n",
        "**Task 1c**:\n",
        "Task: Look at the screen and translate the code blocks\n",
        "into pseudocode\n"
      ],
      "metadata": {
        "id": "N3FUwwLdGtm0"
      }
    },
    {
      "cell_type": "code",
      "source": [
        "\n",
        "# 2.1a\n",
        "# repeat 10 times\n",
        "#     say \"Hey!\"\n",
        "#     move 10 steps\n",
        "\n",
        "# 2.1b\n",
        "# set \"counter\" to 0\n",
        "# repeat until \"counter\" is 50\n",
        "#     move 10 steps\n",
        "#     turn 15 degrees\n",
        "#     increase \"counter\" by 10\n",
        "\n",
        "# 2.1c\n",
        "# ask user for their age\n",
        "# store user input into \"answer\"\n",
        "# if \"answer\" is less than 18\n",
        "#     say \"Access Denied!\"\n",
        "# or else\n",
        "#     say \"Welcome!\"\n"
      ],
      "metadata": {
        "id": "70Ty2DxhG4xI"
      },
      "execution_count": null,
      "outputs": []
    },
    {
      "cell_type": "markdown",
      "source": [
        "\n",
        "## Task 2: Recycling Logic\n",
        "Task: Write down the steps on how to solve the problem below\n",
        "\n",
        "Design pseudocode for a recycling robot that sorts items\n",
        "into bins for glass, plastic, and paper. The robot should\n",
        "check each item's material and place it in the correct bin.\n"
      ],
      "metadata": {
        "id": "5B8ZrLS-Gw9M"
      }
    },
    {
      "cell_type": "code",
      "source": [
        "\n",
        "# 2.2\n",
        "# create \"glass\" bin\n",
        "# create \"plastic\" bin\n",
        "# create \"paper\" bin\n",
        "\n",
        "# repeat until there is no more items\n",
        "#     if item is glass\n",
        "#         put into \"glass\" bin\n",
        "#     if item is plastic\n",
        "#         put into \"plastic\" bin\n",
        "#     if item is paper\n",
        "#         put into \"paper\" bin\n",
        "#     or else\n",
        "#         discard item\n"
      ],
      "metadata": {
        "id": "O-f-tOJfGz1c"
      },
      "execution_count": null,
      "outputs": []
    },
    {
      "cell_type": "markdown",
      "source": [
        "\n",
        "## Task 3: What's the password?\n",
        "Task: Using pseudocode, design a program that will check if the\n",
        "user has entered the right secret phrase.\n",
        "\n",
        "1. If the user has entered a wrong secret phrase, send them an\n",
        "error message.\n",
        "1. If the user has entered the right secret phrase, congratulate\n",
        "them.\n"
      ],
      "metadata": {
        "id": "rEpv1nQwG-RF"
      }
    },
    {
      "cell_type": "code",
      "source": [
        "\n",
        "# 2.3\n",
        "# Set \"password\" as \"Open Sesame\"\n",
        "# Ask user for secret phrase and store into \"user_input\"\n",
        "# Check if \"user_input\" is equals to \"password\"\n",
        "#     if true, send \"congratulations\"\n",
        "#     else, send \"error, wrong secret phrase\"\n",
        "\n"
      ],
      "metadata": {
        "id": "Q0uLuBjAHBUI"
      },
      "execution_count": null,
      "outputs": []
    },
    {
      "cell_type": "markdown",
      "source": [
        "\n",
        "## Task 4: What's your grade?\n",
        "Task: Write a pseudocode that calculates the final score of a student\n",
        "based on the following weightage:\n",
        "_each test is scored upon 100_\n",
        "\n",
        "Test 1 = 20%\n",
        "\n",
        "Test 2 = 40%\n",
        "\n",
        "Test 3 = 40%"
      ],
      "metadata": {
        "id": "rwt82OreHEDt"
      }
    },
    {
      "cell_type": "code",
      "execution_count": null,
      "metadata": {
        "id": "-q2dYL0dGbka"
      },
      "outputs": [],
      "source": [
        "\n",
        "# 2.4\n",
        "# Test 1 = Test 1 x 0.20\n",
        "# Test 2 = Test 2 x 0.40\n",
        "# Test 3 = Test 3 x 0.40\n",
        "\n",
        "# Student's final score = Test 1 + Test 2 + Test 3"
      ]
    }
  ]
}