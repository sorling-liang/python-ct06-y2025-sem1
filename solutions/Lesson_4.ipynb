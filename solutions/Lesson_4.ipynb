{
  "nbformat": 4,
  "nbformat_minor": 0,
  "metadata": {
    "colab": {
      "provenance": []
    },
    "kernelspec": {
      "name": "python3",
      "display_name": "Python 3"
    },
    "language_info": {
      "name": "python"
    }
  },
  "cells": [
    {
      "cell_type": "markdown",
      "source": [
        "# Lesson 4 - Strings\n"
      ],
      "metadata": {
        "id": "PDFG73kbYHfT"
      }
    },
    {
      "cell_type": "markdown",
      "source": [
        "## Recap 1: Sushi Checkout\n",
        "\n",
        "You just had a lunch at a sushi restaurant and have to\n",
        "calculate the total amount you have spent. Different coloured\n",
        "plates costs different as shown below:\n",
        "\n",
        "Red = $1\n",
        "\n",
        "Blue = $2\n",
        "\n",
        "Green = $3\n",
        "\n",
        "You have ordered a total of 3 red plates, 5 blue plates, and 4\n",
        "green plates.\n",
        "\n",
        "Calculate and print the total amount you have spent:\n"
      ],
      "metadata": {
        "id": "OiTcZ0i6YGwU"
      }
    },
    {
      "cell_type": "code",
      "source": [
        "# 4.Recap1\n",
        "# Prices for different colored sushi plates\n",
        "red_plate_price = 1  # $1 per red plate\n",
        "blue_plate_price = 2  # $2 per blue plate\n",
        "green_plate_price = 3  # $3 per green plate\n",
        "\n",
        "# Quantities of each plate ordered\n",
        "red_plates = 3\n",
        "blue_plates = 5\n",
        "green_plates = 4\n",
        "\n",
        "# Calculating total amount spent\n",
        "total_amount = (red_plates * red_plate_price) + (blue_plates * blue_plate_price) + (green_plates * green_plate_price)\n",
        "\n",
        "# Printing total amount\n",
        "print(total_amount)\n",
        "\n"
      ],
      "metadata": {
        "id": "1fWLHFtGYIL4"
      },
      "execution_count": null,
      "outputs": []
    },
    {
      "cell_type": "markdown",
      "source": [
        "## Task 1: Storing and printing Strings\n",
        "\n",
        "**Task 1a**:\n",
        "Use the input() function to ask the user for their name and\n",
        "store it in a variable. Then print that variable.\n",
        "\n",
        "**Task 1b**:\n",
        "Ask the user for their favorite colour using input() and\n",
        "store the response in a variable. Print the variable.\n",
        "\n",
        "**Task 1c**:\n",
        "Ask the user for their age using input() and store the answer\n",
        "in a variable. Print the variable.\n"
      ],
      "metadata": {
        "id": "IT6TCBr3YS8K"
      }
    },
    {
      "cell_type": "code",
      "source": [
        "# 4.1a\n",
        "user_name = input(\"What's your name? \")\n",
        "print(user_name)\n",
        "\n",
        "# 4.1b\n",
        "user_fav_colour = input(\"What's your favourite colour? \")\n",
        "print(user_fav_colour)\n",
        "\n",
        "# 4.1c\n",
        "user_age = input(\"What's your age? \")\n",
        "print(user_age)\n",
        "\n"
      ],
      "metadata": {
        "id": "WLrVX2AGYTfh"
      },
      "execution_count": null,
      "outputs": []
    },
    {
      "cell_type": "markdown",
      "source": [
        "\n",
        "## Task 2: Input & string concatenation\n",
        "\n",
        "**Task 2a**:\n",
        "Ask the user for their name using input() and store it in a\n",
        "variable.\n",
        "Concatenate the name with \"Hi, [name]!\" and print the\n",
        "complete message.\n",
        "\n",
        "**Task 2b**:\n",
        "Use input() to ask the user for their favorite hobby. Store this\n",
        "in a variable.\n",
        "Print a message saying \"I enjoy [hobby]\" using string\n",
        "concatenation.\n",
        "\n",
        "**Task 2c**:\n",
        "Ask the user for their dream vacation destination using input()\n",
        "and store it in a variable.\n",
        "Concatenate this variable with a phrase like \"I would love to\n",
        "visit\" and print the full sentence.\n"
      ],
      "metadata": {
        "id": "X0UNOP5UYZvG"
      }
    },
    {
      "cell_type": "code",
      "source": [
        "# 4.2a\n",
        "user_name = input(\"What's your name? \")\n",
        "print(\"Hi, \" + user_name + \"!\")\n",
        "\n",
        "# 4.2b\n",
        "user_hobby = input(\"What's your favourite hobby? \")\n",
        "print(\"I enjoy \" + user_hobby)\n",
        "\n",
        "# 4.2c\n",
        "user_dest = input(\"What's your dream destination? \")\n",
        "print(\"I would love to visit \" + user_dest)\n",
        "\n"
      ],
      "metadata": {
        "id": "2vvMHGdxYaNG"
      },
      "execution_count": null,
      "outputs": []
    },
    {
      "cell_type": "markdown",
      "source": [
        "\n",
        "## Task 3: Type conversion, math, and string concatenation\n",
        "\n",
        "**Task 3a**:\n",
        "1. Ask the user for their current age using input(). Convert this\n",
        "to an integer.\n",
        "2. Add 1 to their age and convert it back to a string.\n",
        "3. Then print a message saying \"Next year, you will be [age+1]\n",
        "years old.\"\n",
        "\n",
        "**Task 3b**:\n",
        "1. Use input() to ask the user for a number. Convert this number\n",
        "from a string to an integer.\n",
        "2. Double the number and convert it back to a string.\n",
        "3. Print \"Double your number is [double the number]\".\n",
        "\n",
        "**Task 3c**:\n",
        "1. Use input() to ask the user for the year they were born and\n",
        "convert it to an integer.\n",
        "2. Subtract the birth year from the current year (assume the\n",
        "current year as an integer) to find their age.\n",
        "3. Convert the age back to a string and print \"You are [age]\n",
        "years old\"."
      ],
      "metadata": {
        "id": "iic6H2LpYf5H"
      }
    },
    {
      "cell_type": "code",
      "source": [
        "\n",
        "\n",
        "# 4.3a\n",
        "user_age = int(input(\"What's your age? \"))\n",
        "user_age = str(user_age + 1)\n",
        "print(\"Next year, you will be \" + user_age + \" years old.\")\n",
        "\n",
        "# 4.3b\n",
        "user_num = int(input(\"Give me a number: \"))\n",
        "user_num = str(user_num * 2)\n",
        "print(\"Double your number is \" + user_num)\n",
        "\n",
        "# 4.3c\n",
        "user_born = int(input(\"What is the year you were born in? \"))\n",
        "current_year = 2024\n",
        "user_age = str(current_year - user_born)\n",
        "print(\"You are \" + user_age + \" years old.\")\n",
        "\n"
      ],
      "metadata": {
        "id": "5a8dj4f-YgOI"
      },
      "execution_count": null,
      "outputs": []
    },
    {
      "cell_type": "markdown",
      "source": [
        "\n",
        "## Task 4: Variable Reassignment Basics\n",
        "\n",
        "Assign the string \"Hello\" to a variable 'message'.\n",
        "Then reassign 'message' to the integer \"10\" and print it."
      ],
      "metadata": {
        "id": "B0HekM_kYl6f"
      }
    },
    {
      "cell_type": "code",
      "source": [
        "\n",
        "# 4.4\n",
        "message = \"Hello\"\n",
        "message = 10\n",
        "print(message)\n"
      ],
      "metadata": {
        "id": "B4sOrRMuYm4L"
      },
      "execution_count": null,
      "outputs": []
    },
    {
      "cell_type": "markdown",
      "source": [
        "## Task 5: Printing Full Name\n",
        "\n",
        "Create 2 variables, 'firstName' and 'lastName', assigning your\n",
        "first and last names to them. Then print them on the same line\n",
        "with a space between them."
      ],
      "metadata": {
        "id": "Mm6beZCuYqTB"
      }
    },
    {
      "cell_type": "code",
      "source": [
        "\n",
        "# 4.5\n",
        "firstName = \"Johnny\"\n",
        "lastName = \"Cheng\"\n",
        "\n",
        "print(firstName + \" \" + lastName)\n"
      ],
      "metadata": {
        "id": "s-ZmS5-mYqm_"
      },
      "execution_count": null,
      "outputs": []
    },
    {
      "cell_type": "markdown",
      "source": [
        "\n",
        "## Task 6: Age and Name Concatenation\n",
        "\n",
        "Assign a name to the variable \"user_name\"\n",
        "\n",
        "Assign an integer to the variable \"user_age\"\n",
        "\n",
        "Use type conversion and string concatenation to print out\n",
        "\"[user_name] is [user_age] years old.\""
      ],
      "metadata": {
        "id": "j13LZHmNYsPf"
      }
    },
    {
      "cell_type": "code",
      "execution_count": null,
      "metadata": {
        "id": "8NbPPmE5YAge"
      },
      "outputs": [],
      "source": [
        "\n",
        "# 4.6\n",
        "user_name = \"Timothy\"\n",
        "user_age = 10\n",
        "print(user_name + \" is \" + str(user_age) + \" years old.\")"
      ]
    }
  ]
}