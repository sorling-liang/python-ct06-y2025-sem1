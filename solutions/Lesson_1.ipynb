{
  "nbformat": 4,
  "nbformat_minor": 0,
  "metadata": {
    "colab": {
      "provenance": []
    },
    "kernelspec": {
      "name": "python3",
      "display_name": "Python 3"
    },
    "language_info": {
      "name": "python"
    }
  },
  "cells": [
    {
      "cell_type": "markdown",
      "source": [
        "# Lesson 1 - Introduction to Python\n"
      ],
      "metadata": {
        "id": "xsNxL2CqFfmO"
      }
    },
    {
      "cell_type": "markdown",
      "source": [
        "\n",
        "## Task 1: The first run\n",
        "1. Go to Codespaces and click on the file \"main.py\"\n",
        "2. Run the program by clicking on the \"Run\" button.\n",
        "3. What do you see in the \"Console\" on the right side?\n"
      ],
      "metadata": {
        "id": "HVtdH4YTFfaz"
      }
    },
    {
      "cell_type": "markdown",
      "source": [
        "\n",
        "## Task 2: Change main.py to run lesson1.py file\n",
        "All replit projects run from main.py.\n",
        "1. Comment the line that says:\n",
        "   **print(\"Hello from main.py\")**\n",
        "2. Uncomment the line that says\n",
        "   **from CT06_01 import lesson1.py**"
      ],
      "metadata": {
        "id": "Twa_iI-dFqLs"
      }
    },
    {
      "cell_type": "markdown",
      "source": [
        "\n",
        "## Task 3: Learn about # and Comments\n",
        "**Task 3a**:\n",
        "Task: Highlight and comment the the dates.\n",
        "\n",
        "**Task 3b**:\n",
        "Task: Uncomment the lines to print today's date.\n"
      ],
      "metadata": {
        "id": "GpzZD6ztFtkp"
      }
    },
    {
      "cell_type": "markdown",
      "source": [
        "\n",
        "## Task 4: Hello World\n",
        "**Task 4a**:\n",
        "Add an additional print statement and print \"Hello World\"\n",
        "\n",
        "**Task 4b**:\n",
        "Now, try printing the year that you were born instead! Try it\n",
        "both with and without the quotation (\"\")."
      ],
      "metadata": {
        "id": "2LQeTQPWFl_X"
      }
    },
    {
      "cell_type": "code",
      "source": [
        "# 1.4a\n",
        "print(\"Hello World\")\n",
        "\n",
        "# 1.4b\n",
        "print(\"2015\")\n",
        "print(2015)\n",
        "\n"
      ],
      "metadata": {
        "id": "PqhlXEn2F2cZ"
      },
      "execution_count": null,
      "outputs": []
    },
    {
      "cell_type": "markdown",
      "source": [
        "\n",
        "## Task 5: print() is how you say stuff\n",
        "Task: Learn about the print() function.\n",
        "Print the following:\n",
        "1. Hello world\n",
        "2. My favourite food is \\<insert your favourite>\n",
        "3. My birthday is on \\<insert your birthday >\n"
      ],
      "metadata": {
        "id": "n5g8KuXAF4Xg"
      }
    },
    {
      "cell_type": "code",
      "source": [
        "\n",
        "# 1.5\n",
        "print(\"Hello world\")\n",
        "print(\"My favourite food is <insert your favourite>\")\n",
        "print(\"My birthday is on <insert your birthday >\")\n",
        "\n"
      ],
      "metadata": {
        "id": "eQ_9HWGGF9wK"
      },
      "execution_count": null,
      "outputs": []
    },
    {
      "cell_type": "markdown",
      "source": [
        "\n",
        "## Task 6: Self-Introduction\n",
        "Task: Introduce yourself. Write a program to introduce yourself\n",
        "using print statements\n",
        "\n",
        "You should print out\n",
        "1. Your name\n",
        "2. How old you are\n",
        "3. What is your CCA?\n",
        "4. If you had $2,000 as a reward, what would you buy?"
      ],
      "metadata": {
        "id": "N7gz6ZUkF_R_"
      }
    },
    {
      "cell_type": "code",
      "source": [
        "\n",
        "# 1.6\n",
        "print(\"My name is James\")\n",
        "print(\"I am 12 years old\")\n",
        "print(\"My CCA is Badminton\")\n",
        "print(\"If I had $2,000, I will buy a gaming computer!\")\n"
      ],
      "metadata": {
        "id": "rp0S2b99GCCc"
      },
      "execution_count": null,
      "outputs": []
    },
    {
      "cell_type": "markdown",
      "source": [
        "\n",
        "## Task 7: Even more printing!\n",
        "Using print statements, write out your morning routine until\n",
        "you get to school. An example is given below.\n",
        "\n",
        "1. Wake up!\n",
        "2. Go toilet... (remember to flush)\n",
        "3. Brush your teeth..."
      ],
      "metadata": {
        "id": "mDRPOhMnGERQ"
      }
    },
    {
      "cell_type": "code",
      "execution_count": null,
      "metadata": {
        "id": "NKcvZQZnFSPj"
      },
      "outputs": [],
      "source": [
        "\n",
        "# 1.7\n",
        "print(\"Wake up\")\n",
        "print(\"Go toilet\")\n",
        "print(\"Shower\")\n",
        "print(\"Brush teeth\")\n",
        "print(\"Change clothes\")\n",
        "print(\"Wear shoes\")\n",
        "print(\"Leave house\")\n",
        "print(\"Take bus\")\n",
        "print(\"Reach school\")\n",
        "\n",
        "\n"
      ]
    },
    {
      "cell_type": "markdown",
      "source": [
        "\n",
        "## Task 8: Breakfast Routine\n",
        "Rearrange the following to reflect a typical sequence for\n",
        "making breakfast:\n",
        "\n",
        "print(\"Pour milk and cereal into a bowl.\")\n",
        "print(\"Wake up and get out of bed.\")\n",
        "print(\"Eat your breakfast.\")\n"
      ],
      "metadata": {
        "id": "5cwf4rhHGNKr"
      }
    },
    {
      "cell_type": "code",
      "source": [
        "\n",
        "# 1.8\n",
        "print(\"Wake up and get out of bed.\")\n",
        "print(\"Pour milk and cereal into a bowl.\")\n",
        "print(\"Eat your breakfast.\")\n"
      ],
      "metadata": {
        "id": "agwbJtLKGKfJ"
      },
      "execution_count": null,
      "outputs": []
    },
    {
      "cell_type": "markdown",
      "source": [
        "\n",
        "## Task 9: Find the errors\n",
        "Task: Find the errors.\n",
        "Copy (ctrl + c) and paste (ctrl +v) the below codes into\n",
        "lesson1.py. They are wrong. Fix them.\n",
        "\n",
        "# print(Hello and how are you?)\n",
        "\n",
        "# print(\"What is wrong with this\"\n",
        "\n",
        "# print(\"Why is this not working?)\n",
        "\n",
        "# Prnt(\"Why is this not working?\")"
      ],
      "metadata": {
        "id": "RHA3biUdGH4m"
      }
    },
    {
      "cell_type": "code",
      "source": [
        "\n",
        "# 1.9\n",
        "print(\"Hello and how are you?\")\n",
        "\n",
        "print(\"What is wrong with this\")\n",
        "\n",
        "print(\"Why is this not working?\")\n",
        "\n",
        "Print(\"Why is this not working?\")"
      ],
      "metadata": {
        "id": "SgehQtsCGIF_"
      },
      "execution_count": null,
      "outputs": []
    }
  ]
}